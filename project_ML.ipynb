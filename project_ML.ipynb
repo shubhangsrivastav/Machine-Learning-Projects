{
  "nbformat": 4,
  "nbformat_minor": 0,
  "metadata": {
    "colab": {
      "name": "project.ML",
      "provenance": [],
      "collapsed_sections": [],
      "authorship_tag": "ABX9TyPXDbGBigSICgRDUKVxJPyU",
      "include_colab_link": true
    },
    "kernelspec": {
      "name": "python3",
      "display_name": "Python 3"
    },
    "language_info": {
      "name": "python"
    }
  },
  "cells": [
    {
      "cell_type": "markdown",
      "metadata": {
        "id": "view-in-github",
        "colab_type": "text"
      },
      "source": [
        "<a href=\"https://colab.research.google.com/github/shubhangsrivastav/Machine-Learning-Projects/blob/main/project_ML.ipynb\" target=\"_parent\"><img src=\"https://colab.research.google.com/assets/colab-badge.svg\" alt=\"Open In Colab\"/></a>"
      ]
    },
    {
      "cell_type": "code",
      "execution_count": null,
      "metadata": {
        "id": "2OW3QkSGWJlI"
      },
      "outputs": [],
      "source": [
        "import numpy as np\n",
        "import pandas as pd\n",
        "import matplotlib.pyplot as plt\n",
        "import seaborn as sns\n",
        "%matplotlib inline"
      ]
    },
    {
      "cell_type": "code",
      "source": [
        "from google.colab import files\n",
        "uploaded = files.upload()"
      ],
      "metadata": {
        "id": "0KUldsjZiCJb",
        "colab": {
          "resources": {
            "http://localhost:8080/nbextensions/google.colab/files.js": {
              "data": "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",
              "ok": true,
              "headers": [
                [
                  "content-type",
                  "application/javascript"
                ]
              ],
              "status": 200,
              "status_text": ""
            }
          },
          "base_uri": "https://localhost:8080/",
          "height": 56
        },
        "outputId": "54123c66-8b88-48fe-8c9b-2c124156801c"
      },
      "execution_count": null,
      "outputs": [
        {
          "output_type": "display_data",
          "data": {
            "text/html": [
              "\n",
              "     <input type=\"file\" id=\"files-7d9409e9-125a-43f3-9e81-29af1f9db74a\" name=\"files[]\" multiple disabled\n",
              "        style=\"border:none\" />\n",
              "     <output id=\"result-7d9409e9-125a-43f3-9e81-29af1f9db74a\">\n",
              "      Upload widget is only available when the cell has been executed in the\n",
              "      current browser session. Please rerun this cell to enable.\n",
              "      </output>\n",
              "      <script src=\"/nbextensions/google.colab/files.js\"></script> "
            ],
            "text/plain": [
              "<IPython.core.display.HTML object>"
            ]
          },
          "metadata": {}
        },
        {
          "output_type": "stream",
          "name": "stdout",
          "text": [
            "Saving heart.csv to heart.csv\n"
          ]
        }
      ]
    },
    {
      "cell_type": "code",
      "source": [
        "df = pd.read_csv('heart.csv')"
      ],
      "metadata": {
        "id": "fuE9pIzH1U60"
      },
      "execution_count": null,
      "outputs": []
    },
    {
      "cell_type": "code",
      "source": [
        "df"
      ],
      "metadata": {
        "colab": {
          "base_uri": "https://localhost:8080/",
          "height": 423
        },
        "id": "Fm5vnikQ1lcy",
        "outputId": "2f0f0a15-bf26-4816-8fb8-cfc1007be368"
      },
      "execution_count": null,
      "outputs": [
        {
          "output_type": "execute_result",
          "data": {
            "text/html": [
              "\n",
              "  <div id=\"df-071b3324-84aa-44c3-8bc7-1a5f1ba5e53a\">\n",
              "    <div class=\"colab-df-container\">\n",
              "      <div>\n",
              "<style scoped>\n",
              "    .dataframe tbody tr th:only-of-type {\n",
              "        vertical-align: middle;\n",
              "    }\n",
              "\n",
              "    .dataframe tbody tr th {\n",
              "        vertical-align: top;\n",
              "    }\n",
              "\n",
              "    .dataframe thead th {\n",
              "        text-align: right;\n",
              "    }\n",
              "</style>\n",
              "<table border=\"1\" class=\"dataframe\">\n",
              "  <thead>\n",
              "    <tr style=\"text-align: right;\">\n",
              "      <th></th>\n",
              "      <th>age</th>\n",
              "      <th>sex</th>\n",
              "      <th>cp</th>\n",
              "      <th>trestbps</th>\n",
              "      <th>chol</th>\n",
              "      <th>fbs</th>\n",
              "      <th>restecg</th>\n",
              "      <th>thalach</th>\n",
              "      <th>exang</th>\n",
              "      <th>oldpeak</th>\n",
              "      <th>slope</th>\n",
              "      <th>ca</th>\n",
              "      <th>thal</th>\n",
              "      <th>target</th>\n",
              "    </tr>\n",
              "  </thead>\n",
              "  <tbody>\n",
              "    <tr>\n",
              "      <th>0</th>\n",
              "      <td>63</td>\n",
              "      <td>1</td>\n",
              "      <td>3</td>\n",
              "      <td>145</td>\n",
              "      <td>233</td>\n",
              "      <td>1</td>\n",
              "      <td>0</td>\n",
              "      <td>150</td>\n",
              "      <td>0</td>\n",
              "      <td>2.3</td>\n",
              "      <td>0</td>\n",
              "      <td>0</td>\n",
              "      <td>1</td>\n",
              "      <td>1</td>\n",
              "    </tr>\n",
              "    <tr>\n",
              "      <th>1</th>\n",
              "      <td>37</td>\n",
              "      <td>1</td>\n",
              "      <td>2</td>\n",
              "      <td>130</td>\n",
              "      <td>250</td>\n",
              "      <td>0</td>\n",
              "      <td>1</td>\n",
              "      <td>187</td>\n",
              "      <td>0</td>\n",
              "      <td>3.5</td>\n",
              "      <td>0</td>\n",
              "      <td>0</td>\n",
              "      <td>2</td>\n",
              "      <td>1</td>\n",
              "    </tr>\n",
              "    <tr>\n",
              "      <th>2</th>\n",
              "      <td>41</td>\n",
              "      <td>0</td>\n",
              "      <td>1</td>\n",
              "      <td>130</td>\n",
              "      <td>204</td>\n",
              "      <td>0</td>\n",
              "      <td>0</td>\n",
              "      <td>172</td>\n",
              "      <td>0</td>\n",
              "      <td>1.4</td>\n",
              "      <td>2</td>\n",
              "      <td>0</td>\n",
              "      <td>2</td>\n",
              "      <td>1</td>\n",
              "    </tr>\n",
              "    <tr>\n",
              "      <th>3</th>\n",
              "      <td>56</td>\n",
              "      <td>1</td>\n",
              "      <td>1</td>\n",
              "      <td>120</td>\n",
              "      <td>236</td>\n",
              "      <td>0</td>\n",
              "      <td>1</td>\n",
              "      <td>178</td>\n",
              "      <td>0</td>\n",
              "      <td>0.8</td>\n",
              "      <td>2</td>\n",
              "      <td>0</td>\n",
              "      <td>2</td>\n",
              "      <td>1</td>\n",
              "    </tr>\n",
              "    <tr>\n",
              "      <th>4</th>\n",
              "      <td>57</td>\n",
              "      <td>0</td>\n",
              "      <td>0</td>\n",
              "      <td>120</td>\n",
              "      <td>354</td>\n",
              "      <td>0</td>\n",
              "      <td>1</td>\n",
              "      <td>163</td>\n",
              "      <td>1</td>\n",
              "      <td>0.6</td>\n",
              "      <td>2</td>\n",
              "      <td>0</td>\n",
              "      <td>2</td>\n",
              "      <td>1</td>\n",
              "    </tr>\n",
              "    <tr>\n",
              "      <th>...</th>\n",
              "      <td>...</td>\n",
              "      <td>...</td>\n",
              "      <td>...</td>\n",
              "      <td>...</td>\n",
              "      <td>...</td>\n",
              "      <td>...</td>\n",
              "      <td>...</td>\n",
              "      <td>...</td>\n",
              "      <td>...</td>\n",
              "      <td>...</td>\n",
              "      <td>...</td>\n",
              "      <td>...</td>\n",
              "      <td>...</td>\n",
              "      <td>...</td>\n",
              "    </tr>\n",
              "    <tr>\n",
              "      <th>298</th>\n",
              "      <td>57</td>\n",
              "      <td>0</td>\n",
              "      <td>0</td>\n",
              "      <td>140</td>\n",
              "      <td>241</td>\n",
              "      <td>0</td>\n",
              "      <td>1</td>\n",
              "      <td>123</td>\n",
              "      <td>1</td>\n",
              "      <td>0.2</td>\n",
              "      <td>1</td>\n",
              "      <td>0</td>\n",
              "      <td>3</td>\n",
              "      <td>0</td>\n",
              "    </tr>\n",
              "    <tr>\n",
              "      <th>299</th>\n",
              "      <td>45</td>\n",
              "      <td>1</td>\n",
              "      <td>3</td>\n",
              "      <td>110</td>\n",
              "      <td>264</td>\n",
              "      <td>0</td>\n",
              "      <td>1</td>\n",
              "      <td>132</td>\n",
              "      <td>0</td>\n",
              "      <td>1.2</td>\n",
              "      <td>1</td>\n",
              "      <td>0</td>\n",
              "      <td>3</td>\n",
              "      <td>0</td>\n",
              "    </tr>\n",
              "    <tr>\n",
              "      <th>300</th>\n",
              "      <td>68</td>\n",
              "      <td>1</td>\n",
              "      <td>0</td>\n",
              "      <td>144</td>\n",
              "      <td>193</td>\n",
              "      <td>1</td>\n",
              "      <td>1</td>\n",
              "      <td>141</td>\n",
              "      <td>0</td>\n",
              "      <td>3.4</td>\n",
              "      <td>1</td>\n",
              "      <td>2</td>\n",
              "      <td>3</td>\n",
              "      <td>0</td>\n",
              "    </tr>\n",
              "    <tr>\n",
              "      <th>301</th>\n",
              "      <td>57</td>\n",
              "      <td>1</td>\n",
              "      <td>0</td>\n",
              "      <td>130</td>\n",
              "      <td>131</td>\n",
              "      <td>0</td>\n",
              "      <td>1</td>\n",
              "      <td>115</td>\n",
              "      <td>1</td>\n",
              "      <td>1.2</td>\n",
              "      <td>1</td>\n",
              "      <td>1</td>\n",
              "      <td>3</td>\n",
              "      <td>0</td>\n",
              "    </tr>\n",
              "    <tr>\n",
              "      <th>302</th>\n",
              "      <td>57</td>\n",
              "      <td>0</td>\n",
              "      <td>1</td>\n",
              "      <td>130</td>\n",
              "      <td>236</td>\n",
              "      <td>0</td>\n",
              "      <td>0</td>\n",
              "      <td>174</td>\n",
              "      <td>0</td>\n",
              "      <td>0.0</td>\n",
              "      <td>1</td>\n",
              "      <td>1</td>\n",
              "      <td>2</td>\n",
              "      <td>0</td>\n",
              "    </tr>\n",
              "  </tbody>\n",
              "</table>\n",
              "<p>303 rows × 14 columns</p>\n",
              "</div>\n",
              "      <button class=\"colab-df-convert\" onclick=\"convertToInteractive('df-071b3324-84aa-44c3-8bc7-1a5f1ba5e53a')\"\n",
              "              title=\"Convert this dataframe to an interactive table.\"\n",
              "              style=\"display:none;\">\n",
              "        \n",
              "  <svg xmlns=\"http://www.w3.org/2000/svg\" height=\"24px\"viewBox=\"0 0 24 24\"\n",
              "       width=\"24px\">\n",
              "    <path d=\"M0 0h24v24H0V0z\" fill=\"none\"/>\n",
              "    <path d=\"M18.56 5.44l.94 2.06.94-2.06 2.06-.94-2.06-.94-.94-2.06-.94 2.06-2.06.94zm-11 1L8.5 8.5l.94-2.06 2.06-.94-2.06-.94L8.5 2.5l-.94 2.06-2.06.94zm10 10l.94 2.06.94-2.06 2.06-.94-2.06-.94-.94-2.06-.94 2.06-2.06.94z\"/><path d=\"M17.41 7.96l-1.37-1.37c-.4-.4-.92-.59-1.43-.59-.52 0-1.04.2-1.43.59L10.3 9.45l-7.72 7.72c-.78.78-.78 2.05 0 2.83L4 21.41c.39.39.9.59 1.41.59.51 0 1.02-.2 1.41-.59l7.78-7.78 2.81-2.81c.8-.78.8-2.07 0-2.86zM5.41 20L4 18.59l7.72-7.72 1.47 1.35L5.41 20z\"/>\n",
              "  </svg>\n",
              "      </button>\n",
              "      \n",
              "  <style>\n",
              "    .colab-df-container {\n",
              "      display:flex;\n",
              "      flex-wrap:wrap;\n",
              "      gap: 12px;\n",
              "    }\n",
              "\n",
              "    .colab-df-convert {\n",
              "      background-color: #E8F0FE;\n",
              "      border: none;\n",
              "      border-radius: 50%;\n",
              "      cursor: pointer;\n",
              "      display: none;\n",
              "      fill: #1967D2;\n",
              "      height: 32px;\n",
              "      padding: 0 0 0 0;\n",
              "      width: 32px;\n",
              "    }\n",
              "\n",
              "    .colab-df-convert:hover {\n",
              "      background-color: #E2EBFA;\n",
              "      box-shadow: 0px 1px 2px rgba(60, 64, 67, 0.3), 0px 1px 3px 1px rgba(60, 64, 67, 0.15);\n",
              "      fill: #174EA6;\n",
              "    }\n",
              "\n",
              "    [theme=dark] .colab-df-convert {\n",
              "      background-color: #3B4455;\n",
              "      fill: #D2E3FC;\n",
              "    }\n",
              "\n",
              "    [theme=dark] .colab-df-convert:hover {\n",
              "      background-color: #434B5C;\n",
              "      box-shadow: 0px 1px 3px 1px rgba(0, 0, 0, 0.15);\n",
              "      filter: drop-shadow(0px 1px 2px rgba(0, 0, 0, 0.3));\n",
              "      fill: #FFFFFF;\n",
              "    }\n",
              "  </style>\n",
              "\n",
              "      <script>\n",
              "        const buttonEl =\n",
              "          document.querySelector('#df-071b3324-84aa-44c3-8bc7-1a5f1ba5e53a button.colab-df-convert');\n",
              "        buttonEl.style.display =\n",
              "          google.colab.kernel.accessAllowed ? 'block' : 'none';\n",
              "\n",
              "        async function convertToInteractive(key) {\n",
              "          const element = document.querySelector('#df-071b3324-84aa-44c3-8bc7-1a5f1ba5e53a');\n",
              "          const dataTable =\n",
              "            await google.colab.kernel.invokeFunction('convertToInteractive',\n",
              "                                                     [key], {});\n",
              "          if (!dataTable) return;\n",
              "\n",
              "          const docLinkHtml = 'Like what you see? Visit the ' +\n",
              "            '<a target=\"_blank\" href=https://colab.research.google.com/notebooks/data_table.ipynb>data table notebook</a>'\n",
              "            + ' to learn more about interactive tables.';\n",
              "          element.innerHTML = '';\n",
              "          dataTable['output_type'] = 'display_data';\n",
              "          await google.colab.output.renderOutput(dataTable, element);\n",
              "          const docLink = document.createElement('div');\n",
              "          docLink.innerHTML = docLinkHtml;\n",
              "          element.appendChild(docLink);\n",
              "        }\n",
              "      </script>\n",
              "    </div>\n",
              "  </div>\n",
              "  "
            ],
            "text/plain": [
              "     age  sex  cp  trestbps  chol  fbs  ...  exang  oldpeak  slope  ca  thal  target\n",
              "0     63    1   3       145   233    1  ...      0      2.3      0   0     1       1\n",
              "1     37    1   2       130   250    0  ...      0      3.5      0   0     2       1\n",
              "2     41    0   1       130   204    0  ...      0      1.4      2   0     2       1\n",
              "3     56    1   1       120   236    0  ...      0      0.8      2   0     2       1\n",
              "4     57    0   0       120   354    0  ...      1      0.6      2   0     2       1\n",
              "..   ...  ...  ..       ...   ...  ...  ...    ...      ...    ...  ..   ...     ...\n",
              "298   57    0   0       140   241    0  ...      1      0.2      1   0     3       0\n",
              "299   45    1   3       110   264    0  ...      0      1.2      1   0     3       0\n",
              "300   68    1   0       144   193    1  ...      0      3.4      1   2     3       0\n",
              "301   57    1   0       130   131    0  ...      1      1.2      1   1     3       0\n",
              "302   57    0   1       130   236    0  ...      0      0.0      1   1     2       0\n",
              "\n",
              "[303 rows x 14 columns]"
            ]
          },
          "metadata": {},
          "execution_count": 4
        }
      ]
    },
    {
      "cell_type": "code",
      "source": [
        "df.info()"
      ],
      "metadata": {
        "colab": {
          "base_uri": "https://localhost:8080/"
        },
        "id": "YETEcubx1suF",
        "outputId": "eebeebd0-7b44-47e1-ed33-89ab4ce92481"
      },
      "execution_count": null,
      "outputs": [
        {
          "output_type": "stream",
          "name": "stdout",
          "text": [
            "<class 'pandas.core.frame.DataFrame'>\n",
            "RangeIndex: 303 entries, 0 to 302\n",
            "Data columns (total 14 columns):\n",
            " #   Column    Non-Null Count  Dtype  \n",
            "---  ------    --------------  -----  \n",
            " 0   age       303 non-null    int64  \n",
            " 1   sex       303 non-null    int64  \n",
            " 2   cp        303 non-null    int64  \n",
            " 3   trestbps  303 non-null    int64  \n",
            " 4   chol      303 non-null    int64  \n",
            " 5   fbs       303 non-null    int64  \n",
            " 6   restecg   303 non-null    int64  \n",
            " 7   thalach   303 non-null    int64  \n",
            " 8   exang     303 non-null    int64  \n",
            " 9   oldpeak   303 non-null    float64\n",
            " 10  slope     303 non-null    int64  \n",
            " 11  ca        303 non-null    int64  \n",
            " 12  thal      303 non-null    int64  \n",
            " 13  target    303 non-null    int64  \n",
            "dtypes: float64(1), int64(13)\n",
            "memory usage: 33.3 KB\n"
          ]
        }
      ]
    },
    {
      "cell_type": "code",
      "source": [
        "df.describe()"
      ],
      "metadata": {
        "colab": {
          "base_uri": "https://localhost:8080/",
          "height": 300
        },
        "id": "v862lpvd14Oh",
        "outputId": "2e49923a-188c-4dab-c6dc-b098709cb86c"
      },
      "execution_count": null,
      "outputs": [
        {
          "output_type": "execute_result",
          "data": {
            "text/html": [
              "\n",
              "  <div id=\"df-99ebb15c-b41f-466a-9258-dbc53dad6562\">\n",
              "    <div class=\"colab-df-container\">\n",
              "      <div>\n",
              "<style scoped>\n",
              "    .dataframe tbody tr th:only-of-type {\n",
              "        vertical-align: middle;\n",
              "    }\n",
              "\n",
              "    .dataframe tbody tr th {\n",
              "        vertical-align: top;\n",
              "    }\n",
              "\n",
              "    .dataframe thead th {\n",
              "        text-align: right;\n",
              "    }\n",
              "</style>\n",
              "<table border=\"1\" class=\"dataframe\">\n",
              "  <thead>\n",
              "    <tr style=\"text-align: right;\">\n",
              "      <th></th>\n",
              "      <th>age</th>\n",
              "      <th>sex</th>\n",
              "      <th>cp</th>\n",
              "      <th>trestbps</th>\n",
              "      <th>chol</th>\n",
              "      <th>fbs</th>\n",
              "      <th>restecg</th>\n",
              "      <th>thalach</th>\n",
              "      <th>exang</th>\n",
              "      <th>oldpeak</th>\n",
              "      <th>slope</th>\n",
              "      <th>ca</th>\n",
              "      <th>thal</th>\n",
              "      <th>target</th>\n",
              "    </tr>\n",
              "  </thead>\n",
              "  <tbody>\n",
              "    <tr>\n",
              "      <th>count</th>\n",
              "      <td>303.000000</td>\n",
              "      <td>303.000000</td>\n",
              "      <td>303.000000</td>\n",
              "      <td>303.000000</td>\n",
              "      <td>303.000000</td>\n",
              "      <td>303.000000</td>\n",
              "      <td>303.000000</td>\n",
              "      <td>303.000000</td>\n",
              "      <td>303.000000</td>\n",
              "      <td>303.000000</td>\n",
              "      <td>303.000000</td>\n",
              "      <td>303.000000</td>\n",
              "      <td>303.000000</td>\n",
              "      <td>303.000000</td>\n",
              "    </tr>\n",
              "    <tr>\n",
              "      <th>mean</th>\n",
              "      <td>54.366337</td>\n",
              "      <td>0.683168</td>\n",
              "      <td>0.966997</td>\n",
              "      <td>131.623762</td>\n",
              "      <td>246.264026</td>\n",
              "      <td>0.148515</td>\n",
              "      <td>0.528053</td>\n",
              "      <td>149.646865</td>\n",
              "      <td>0.326733</td>\n",
              "      <td>1.039604</td>\n",
              "      <td>1.399340</td>\n",
              "      <td>0.729373</td>\n",
              "      <td>2.313531</td>\n",
              "      <td>0.544554</td>\n",
              "    </tr>\n",
              "    <tr>\n",
              "      <th>std</th>\n",
              "      <td>9.082101</td>\n",
              "      <td>0.466011</td>\n",
              "      <td>1.032052</td>\n",
              "      <td>17.538143</td>\n",
              "      <td>51.830751</td>\n",
              "      <td>0.356198</td>\n",
              "      <td>0.525860</td>\n",
              "      <td>22.905161</td>\n",
              "      <td>0.469794</td>\n",
              "      <td>1.161075</td>\n",
              "      <td>0.616226</td>\n",
              "      <td>1.022606</td>\n",
              "      <td>0.612277</td>\n",
              "      <td>0.498835</td>\n",
              "    </tr>\n",
              "    <tr>\n",
              "      <th>min</th>\n",
              "      <td>29.000000</td>\n",
              "      <td>0.000000</td>\n",
              "      <td>0.000000</td>\n",
              "      <td>94.000000</td>\n",
              "      <td>126.000000</td>\n",
              "      <td>0.000000</td>\n",
              "      <td>0.000000</td>\n",
              "      <td>71.000000</td>\n",
              "      <td>0.000000</td>\n",
              "      <td>0.000000</td>\n",
              "      <td>0.000000</td>\n",
              "      <td>0.000000</td>\n",
              "      <td>0.000000</td>\n",
              "      <td>0.000000</td>\n",
              "    </tr>\n",
              "    <tr>\n",
              "      <th>25%</th>\n",
              "      <td>47.500000</td>\n",
              "      <td>0.000000</td>\n",
              "      <td>0.000000</td>\n",
              "      <td>120.000000</td>\n",
              "      <td>211.000000</td>\n",
              "      <td>0.000000</td>\n",
              "      <td>0.000000</td>\n",
              "      <td>133.500000</td>\n",
              "      <td>0.000000</td>\n",
              "      <td>0.000000</td>\n",
              "      <td>1.000000</td>\n",
              "      <td>0.000000</td>\n",
              "      <td>2.000000</td>\n",
              "      <td>0.000000</td>\n",
              "    </tr>\n",
              "    <tr>\n",
              "      <th>50%</th>\n",
              "      <td>55.000000</td>\n",
              "      <td>1.000000</td>\n",
              "      <td>1.000000</td>\n",
              "      <td>130.000000</td>\n",
              "      <td>240.000000</td>\n",
              "      <td>0.000000</td>\n",
              "      <td>1.000000</td>\n",
              "      <td>153.000000</td>\n",
              "      <td>0.000000</td>\n",
              "      <td>0.800000</td>\n",
              "      <td>1.000000</td>\n",
              "      <td>0.000000</td>\n",
              "      <td>2.000000</td>\n",
              "      <td>1.000000</td>\n",
              "    </tr>\n",
              "    <tr>\n",
              "      <th>75%</th>\n",
              "      <td>61.000000</td>\n",
              "      <td>1.000000</td>\n",
              "      <td>2.000000</td>\n",
              "      <td>140.000000</td>\n",
              "      <td>274.500000</td>\n",
              "      <td>0.000000</td>\n",
              "      <td>1.000000</td>\n",
              "      <td>166.000000</td>\n",
              "      <td>1.000000</td>\n",
              "      <td>1.600000</td>\n",
              "      <td>2.000000</td>\n",
              "      <td>1.000000</td>\n",
              "      <td>3.000000</td>\n",
              "      <td>1.000000</td>\n",
              "    </tr>\n",
              "    <tr>\n",
              "      <th>max</th>\n",
              "      <td>77.000000</td>\n",
              "      <td>1.000000</td>\n",
              "      <td>3.000000</td>\n",
              "      <td>200.000000</td>\n",
              "      <td>564.000000</td>\n",
              "      <td>1.000000</td>\n",
              "      <td>2.000000</td>\n",
              "      <td>202.000000</td>\n",
              "      <td>1.000000</td>\n",
              "      <td>6.200000</td>\n",
              "      <td>2.000000</td>\n",
              "      <td>4.000000</td>\n",
              "      <td>3.000000</td>\n",
              "      <td>1.000000</td>\n",
              "    </tr>\n",
              "  </tbody>\n",
              "</table>\n",
              "</div>\n",
              "      <button class=\"colab-df-convert\" onclick=\"convertToInteractive('df-99ebb15c-b41f-466a-9258-dbc53dad6562')\"\n",
              "              title=\"Convert this dataframe to an interactive table.\"\n",
              "              style=\"display:none;\">\n",
              "        \n",
              "  <svg xmlns=\"http://www.w3.org/2000/svg\" height=\"24px\"viewBox=\"0 0 24 24\"\n",
              "       width=\"24px\">\n",
              "    <path d=\"M0 0h24v24H0V0z\" fill=\"none\"/>\n",
              "    <path d=\"M18.56 5.44l.94 2.06.94-2.06 2.06-.94-2.06-.94-.94-2.06-.94 2.06-2.06.94zm-11 1L8.5 8.5l.94-2.06 2.06-.94-2.06-.94L8.5 2.5l-.94 2.06-2.06.94zm10 10l.94 2.06.94-2.06 2.06-.94-2.06-.94-.94-2.06-.94 2.06-2.06.94z\"/><path d=\"M17.41 7.96l-1.37-1.37c-.4-.4-.92-.59-1.43-.59-.52 0-1.04.2-1.43.59L10.3 9.45l-7.72 7.72c-.78.78-.78 2.05 0 2.83L4 21.41c.39.39.9.59 1.41.59.51 0 1.02-.2 1.41-.59l7.78-7.78 2.81-2.81c.8-.78.8-2.07 0-2.86zM5.41 20L4 18.59l7.72-7.72 1.47 1.35L5.41 20z\"/>\n",
              "  </svg>\n",
              "      </button>\n",
              "      \n",
              "  <style>\n",
              "    .colab-df-container {\n",
              "      display:flex;\n",
              "      flex-wrap:wrap;\n",
              "      gap: 12px;\n",
              "    }\n",
              "\n",
              "    .colab-df-convert {\n",
              "      background-color: #E8F0FE;\n",
              "      border: none;\n",
              "      border-radius: 50%;\n",
              "      cursor: pointer;\n",
              "      display: none;\n",
              "      fill: #1967D2;\n",
              "      height: 32px;\n",
              "      padding: 0 0 0 0;\n",
              "      width: 32px;\n",
              "    }\n",
              "\n",
              "    .colab-df-convert:hover {\n",
              "      background-color: #E2EBFA;\n",
              "      box-shadow: 0px 1px 2px rgba(60, 64, 67, 0.3), 0px 1px 3px 1px rgba(60, 64, 67, 0.15);\n",
              "      fill: #174EA6;\n",
              "    }\n",
              "\n",
              "    [theme=dark] .colab-df-convert {\n",
              "      background-color: #3B4455;\n",
              "      fill: #D2E3FC;\n",
              "    }\n",
              "\n",
              "    [theme=dark] .colab-df-convert:hover {\n",
              "      background-color: #434B5C;\n",
              "      box-shadow: 0px 1px 3px 1px rgba(0, 0, 0, 0.15);\n",
              "      filter: drop-shadow(0px 1px 2px rgba(0, 0, 0, 0.3));\n",
              "      fill: #FFFFFF;\n",
              "    }\n",
              "  </style>\n",
              "\n",
              "      <script>\n",
              "        const buttonEl =\n",
              "          document.querySelector('#df-99ebb15c-b41f-466a-9258-dbc53dad6562 button.colab-df-convert');\n",
              "        buttonEl.style.display =\n",
              "          google.colab.kernel.accessAllowed ? 'block' : 'none';\n",
              "\n",
              "        async function convertToInteractive(key) {\n",
              "          const element = document.querySelector('#df-99ebb15c-b41f-466a-9258-dbc53dad6562');\n",
              "          const dataTable =\n",
              "            await google.colab.kernel.invokeFunction('convertToInteractive',\n",
              "                                                     [key], {});\n",
              "          if (!dataTable) return;\n",
              "\n",
              "          const docLinkHtml = 'Like what you see? Visit the ' +\n",
              "            '<a target=\"_blank\" href=https://colab.research.google.com/notebooks/data_table.ipynb>data table notebook</a>'\n",
              "            + ' to learn more about interactive tables.';\n",
              "          element.innerHTML = '';\n",
              "          dataTable['output_type'] = 'display_data';\n",
              "          await google.colab.output.renderOutput(dataTable, element);\n",
              "          const docLink = document.createElement('div');\n",
              "          docLink.innerHTML = docLinkHtml;\n",
              "          element.appendChild(docLink);\n",
              "        }\n",
              "      </script>\n",
              "    </div>\n",
              "  </div>\n",
              "  "
            ],
            "text/plain": [
              "              age         sex          cp  ...          ca        thal      target\n",
              "count  303.000000  303.000000  303.000000  ...  303.000000  303.000000  303.000000\n",
              "mean    54.366337    0.683168    0.966997  ...    0.729373    2.313531    0.544554\n",
              "std      9.082101    0.466011    1.032052  ...    1.022606    0.612277    0.498835\n",
              "min     29.000000    0.000000    0.000000  ...    0.000000    0.000000    0.000000\n",
              "25%     47.500000    0.000000    0.000000  ...    0.000000    2.000000    0.000000\n",
              "50%     55.000000    1.000000    1.000000  ...    0.000000    2.000000    1.000000\n",
              "75%     61.000000    1.000000    2.000000  ...    1.000000    3.000000    1.000000\n",
              "max     77.000000    1.000000    3.000000  ...    4.000000    3.000000    1.000000\n",
              "\n",
              "[8 rows x 14 columns]"
            ]
          },
          "metadata": {},
          "execution_count": 6
        }
      ]
    },
    {
      "cell_type": "code",
      "source": [
        "df.corr()['target'].sort_values(ascending=True)"
      ],
      "metadata": {
        "colab": {
          "base_uri": "https://localhost:8080/"
        },
        "id": "8tzudiYO21NK",
        "outputId": "b813972a-7eaf-4aaa-d760-0069bc682531"
      },
      "execution_count": null,
      "outputs": [
        {
          "output_type": "execute_result",
          "data": {
            "text/plain": [
              "exang      -0.436757\n",
              "oldpeak    -0.430696\n",
              "ca         -0.391724\n",
              "thal       -0.344029\n",
              "sex        -0.280937\n",
              "age        -0.225439\n",
              "trestbps   -0.144931\n",
              "chol       -0.085239\n",
              "fbs        -0.028046\n",
              "restecg     0.137230\n",
              "slope       0.345877\n",
              "thalach     0.421741\n",
              "cp          0.433798\n",
              "target      1.000000\n",
              "Name: target, dtype: float64"
            ]
          },
          "metadata": {},
          "execution_count": 7
        }
      ]
    },
    {
      "cell_type": "code",
      "source": [
        "df.corr()['target'][:13].sort_values().plot(kind='bar')"
      ],
      "metadata": {
        "colab": {
          "base_uri": "https://localhost:8080/",
          "height": 314
        },
        "id": "7f7Iqnsn3m3Y",
        "outputId": "a9d2e9c9-b558-4e5a-c525-c3ff8ccf3ca1"
      },
      "execution_count": null,
      "outputs": [
        {
          "output_type": "execute_result",
          "data": {
            "text/plain": [
              "<matplotlib.axes._subplots.AxesSubplot at 0x7fb922c7bfd0>"
            ]
          },
          "metadata": {},
          "execution_count": 8
        },
        {
          "output_type": "display_data",
          "data": {
            "image/png": "[encoded data removed]",
            "text/plain": [
              "<Figure size 432x288 with 1 Axes>"
            ]
          },
          "metadata": {
            "needs_background": "light"
          }
        }
      ]
    },
    {
      "cell_type": "code",
      "source": [
        "sns.countplot(x=df['target'])"
      ],
      "metadata": {
        "colab": {
          "base_uri": "https://localhost:8080/",
          "height": 296
        },
        "id": "ZofXGH9D77Ij",
        "outputId": "b5f8ca15-3245-435f-a8aa-47309bbbea1b"
      },
      "execution_count": null,
      "outputs": [
        {
          "output_type": "execute_result",
          "data": {
            "text/plain": [
              "<matplotlib.axes._subplots.AxesSubplot at 0x7fb92235a450>"
            ]
          },
          "metadata": {},
          "execution_count": 9
        },
        {
          "output_type": "display_data",
          "data": {
            "image/png": "[encoded data removed]",
            "text/plain": [
              "<Figure size 432x288 with 1 Axes>"
            ]
          },
          "metadata": {
            "needs_background": "light"
          }
        }
      ]
    },
    {
      "cell_type": "markdown",
      "source": [
        "This shows  that the data is not biased "
      ],
      "metadata": {
        "id": "sPQxK28EO90j"
      }
    },
    {
      "cell_type": "code",
      "source": [
        "x = df.drop('target',axis=1)"
      ],
      "metadata": {
        "id": "U-kq1dcJ8OHv"
      },
      "execution_count": null,
      "outputs": []
    },
    {
      "cell_type": "code",
      "source": [
        "y = df['target'] "
      ],
      "metadata": {
        "id": "eXPhD3_Q9Tfs"
      },
      "execution_count": null,
      "outputs": []
    },
    {
      "cell_type": "code",
      "source": [
        "from sklearn.model_selection import train_test_split"
      ],
      "metadata": {
        "id": "WWwv28lA9hJf"
      },
      "execution_count": null,
      "outputs": []
    },
    {
      "cell_type": "code",
      "source": [
        "x_train,x_test,y_train,y_test = train_test_split(x,y,test_size= 0.3,random_state=101)"
      ],
      "metadata": {
        "id": "Lb8vKVKL95m0"
      },
      "execution_count": null,
      "outputs": []
    },
    {
      "cell_type": "markdown",
      "source": [
        "Random state here used so that same set of data is used to train and test on model for each and every algorithm used so that we can compare accuracy of each algorithm"
      ],
      "metadata": {
        "id": "l1eKoXvb1LLi"
      }
    },
    {
      "cell_type": "markdown",
      "source": [
        "LOGISTIC REGRESSION"
      ],
      "metadata": {
        "id": "JEGi98fe-U7G"
      }
    },
    {
      "cell_type": "code",
      "source": [
        "from sklearn.linear_model import LogisticRegression"
      ],
      "metadata": {
        "id": "s5j4QDYE-cmq"
      },
      "execution_count": null,
      "outputs": []
    },
    {
      "cell_type": "code",
      "source": [
        "lr = LogisticRegression()"
      ],
      "metadata": {
        "id": "qgqjy50S-q-W"
      },
      "execution_count": null,
      "outputs": []
    },
    {
      "cell_type": "code",
      "source": [
        "lr.fit(x_train,y_train)"
      ],
      "metadata": {
        "colab": {
          "base_uri": "https://localhost:8080/"
        },
        "id": "ms0KM97c-1bH",
        "outputId": "454747f2-1494-4cff-b5f5-d2589427db36"
      },
      "execution_count": null,
      "outputs": [
        {
          "output_type": "stream",
          "name": "stderr",
          "text": [
            "/usr/local/lib/python3.7/dist-packages/sklearn/linear_model/_logistic.py:818: ConvergenceWarning: lbfgs failed to converge (status=1):\n",
            "STOP: TOTAL NO. of ITERATIONS REACHED LIMIT.\n",
            "\n",
            "Increase the number of iterations (max_iter) or scale the data as shown in:\n",
            "    https://scikit-learn.org/stable/modules/preprocessing.html\n",
            "Please also refer to the documentation for alternative solver options:\n",
            "    https://scikit-learn.org/stable/modules/linear_model.html#logistic-regression\n",
            "  extra_warning_msg=_LOGISTIC_SOLVER_CONVERGENCE_MSG,\n"
          ]
        },
        {
          "output_type": "execute_result",
          "data": {
            "text/plain": [
              "LogisticRegression()"
            ]
          },
          "metadata": {},
          "execution_count": 16
        }
      ]
    },
    {
      "cell_type": "code",
      "source": [
        "pred_lr =lr.predict(x_test);"
      ],
      "metadata": {
        "id": "rpw8MiTu-7dn"
      },
      "execution_count": null,
      "outputs": []
    },
    {
      "cell_type": "code",
      "source": [
        "from sklearn.metrics import confusion_matrix, classification_report\n",
        "from sklearn.metrics import accuracy_score"
      ],
      "metadata": {
        "id": "bOKKd5Y0_Ozr"
      },
      "execution_count": null,
      "outputs": []
    },
    {
      "cell_type": "code",
      "source": [
        "print(confusion_matrix(y_test,pred_lr))\n",
        "print('\\n')\n",
        "print(classification_report(y_test, pred_lr))\n",
        "print('Accuracy :'+ str(accuracy_score(y_test,pred_lr)*100) +' %' )\n"
      ],
      "metadata": {
        "colab": {
          "base_uri": "https://localhost:8080/"
        },
        "id": "pKuyvJhtAsOp",
        "outputId": "07bfeb7a-2327-4310-a905-a944779031e9"
      },
      "execution_count": null,
      "outputs": [
        {
          "output_type": "stream",
          "name": "stdout",
          "text": [
            "[[35  9]\n",
            " [ 2 45]]\n",
            "\n",
            "\n",
            "              precision    recall  f1-score   support\n",
            "\n",
            "           0       0.95      0.80      0.86        44\n",
            "           1       0.83      0.96      0.89        47\n",
            "\n",
            "    accuracy                           0.88        91\n",
            "   macro avg       0.89      0.88      0.88        91\n",
            "weighted avg       0.89      0.88      0.88        91\n",
            "\n",
            "Accuracy :87.91208791208791 %\n"
          ]
        }
      ]
    },
    {
      "cell_type": "markdown",
      "source": [
        "KNN"
      ],
      "metadata": {
        "id": "TuMmuXYWDyyF"
      }
    },
    {
      "cell_type": "code",
      "source": [
        "from sklearn.neighbors import KNeighborsClassifier"
      ],
      "metadata": {
        "id": "vz38U5zfDt4i"
      },
      "execution_count": null,
      "outputs": []
    },
    {
      "cell_type": "code",
      "source": [
        "acc_scores = []\n",
        "for i in range(1,212):\n",
        "  knn = KNeighborsClassifier(n_neighbors=i)\n",
        "  knn.fit(x_train,y_train)\n",
        "  pred_knn = knn.predict(x_test)\n",
        "  acc_scores.append(accuracy_score(y_test,pred_knn))\n"
      ],
      "metadata": {
        "id": "huy5LKEiEPjf"
      },
      "execution_count": null,
      "outputs": []
    },
    {
      "cell_type": "code",
      "source": [
        "plt.figure(figsize=(20,12))\n",
        "plt.plot(range(1,212),acc_scores,color='orange',linestyle='dashed',marker='o',markerfacecolor='purple',markersize=20)\n",
        "plt.title('Accuracy vs K Value')\n",
        "plt.xlabel('K')\n",
        "plt.ylabel('Accuracy')"
      ],
      "metadata": {
        "colab": {
          "base_uri": "https://localhost:8080/",
          "height": 747
        },
        "id": "9QZ0_1H7IbB1",
        "outputId": "719dd784-7b2a-484f-e43e-d68d67225a74"
      },
      "execution_count": null,
      "outputs": [
        {
          "output_type": "execute_result",
          "data": {
            "text/plain": [
              "Text(0, 0.5, 'Accuracy')"
            ]
          },
          "metadata": {},
          "execution_count": 22
        },
        {
          "output_type": "display_data",
          "data": {
            "image/png": "[encoded data removed]",
            "text/plain": [
              "<Figure size 1440x864 with 1 Axes>"
            ]
          },
          "metadata": {
            "needs_background": "light"
          }
        }
      ]
    },
    {
      "cell_type": "code",
      "source": [
        "acc_scores.index(max(acc_scores))+1"
      ],
      "metadata": {
        "colab": {
          "base_uri": "https://localhost:8080/"
        },
        "id": "z9Iu6SXiLIBg",
        "outputId": "fd96a3b1-b63d-462d-b2f2-6c7022d22d7e"
      },
      "execution_count": null,
      "outputs": [
        {
          "output_type": "execute_result",
          "data": {
            "text/plain": [
              "24"
            ]
          },
          "metadata": {},
          "execution_count": 23
        }
      ]
    },
    {
      "cell_type": "code",
      "source": [
        "knn = KNeighborsClassifier(n_neighbors=24)\n",
        "knn.fit(x_train,y_train)\n",
        "pred_knn = knn.predict(x_test)"
      ],
      "metadata": {
        "id": "UFK0u-19Lj2W"
      },
      "execution_count": null,
      "outputs": []
    },
    {
      "cell_type": "code",
      "source": [
        "print(confusion_matrix(y_test,pred_knn))\n",
        "print('\\n')\n",
        "print(classification_report(y_test,pred_knn))\n",
        "print('Accuracy :'+ str(accuracy_score(y_test,pred_knn)*100) +' %' )\n"
      ],
      "metadata": {
        "colab": {
          "base_uri": "https://localhost:8080/"
        },
        "id": "loXCYBdVL32N",
        "outputId": "38f60738-a5fc-423b-d8b8-39e3a302b878"
      },
      "execution_count": null,
      "outputs": [
        {
          "output_type": "stream",
          "name": "stdout",
          "text": [
            "[[31 13]\n",
            " [12 35]]\n",
            "\n",
            "\n",
            "              precision    recall  f1-score   support\n",
            "\n",
            "           0       0.72      0.70      0.71        44\n",
            "           1       0.73      0.74      0.74        47\n",
            "\n",
            "    accuracy                           0.73        91\n",
            "   macro avg       0.73      0.72      0.72        91\n",
            "weighted avg       0.73      0.73      0.73        91\n",
            "\n",
            "Accuracy :72.52747252747253 %\n"
          ]
        }
      ]
    },
    {
      "cell_type": "markdown",
      "source": [
        "DECISION TREES"
      ],
      "metadata": {
        "id": "JnJ6P1qJxmK9"
      }
    },
    {
      "cell_type": "code",
      "source": [
        "from sklearn.tree import DecisionTreeClassifier"
      ],
      "metadata": {
        "id": "pABCQ8e_xjPK"
      },
      "execution_count": null,
      "outputs": []
    },
    {
      "cell_type": "code",
      "source": [
        "dt = DecisionTreeClassifier(criterion='entropy')\n"
      ],
      "metadata": {
        "id": "GFYUWIawybXN"
      },
      "execution_count": null,
      "outputs": []
    },
    {
      "cell_type": "code",
      "source": [
        "dt.fit(x_train,y_train)"
      ],
      "metadata": {
        "colab": {
          "base_uri": "https://localhost:8080/"
        },
        "id": "zMpG2YJlytq8",
        "outputId": "e7641391-8c3b-4d48-896c-58b416a43f8c"
      },
      "execution_count": null,
      "outputs": [
        {
          "output_type": "execute_result",
          "data": {
            "text/plain": [
              "DecisionTreeClassifier(criterion='entropy')"
            ]
          },
          "metadata": {},
          "execution_count": 28
        }
      ]
    },
    {
      "cell_type": "code",
      "source": [
        "pred_dt = dt.predict(x_test)"
      ],
      "metadata": {
        "id": "zJ-yMxEiy1y-"
      },
      "execution_count": null,
      "outputs": []
    },
    {
      "cell_type": "code",
      "source": [
        "print(confusion_matrix(y_test,pred_dt))\n",
        "print('\\n')\n",
        "print(classification_report(y_test,pred_dt))\n",
        "print('Accuracy :'+ str(accuracy_score(y_test,pred_dt)*100) +' %' )\n"
      ],
      "metadata": {
        "colab": {
          "base_uri": "https://localhost:8080/"
        },
        "id": "1RcR5EX1zEhR",
        "outputId": "084a508b-479d-49b1-dde3-8d4fe6c7a663"
      },
      "execution_count": null,
      "outputs": [
        {
          "output_type": "stream",
          "name": "stdout",
          "text": [
            "[[32 12]\n",
            " [ 4 43]]\n",
            "\n",
            "\n",
            "              precision    recall  f1-score   support\n",
            "\n",
            "           0       0.89      0.73      0.80        44\n",
            "           1       0.78      0.91      0.84        47\n",
            "\n",
            "    accuracy                           0.82        91\n",
            "   macro avg       0.84      0.82      0.82        91\n",
            "weighted avg       0.83      0.82      0.82        91\n",
            "\n",
            "Accuracy :82.41758241758241 %\n"
          ]
        }
      ]
    },
    {
      "cell_type": "markdown",
      "source": [
        ""
      ],
      "metadata": {
        "id": "kGAdxaEC1dcv"
      }
    },
    {
      "cell_type": "markdown",
      "source": [
        "RANDOM FOREST"
      ],
      "metadata": {
        "id": "Ma6RpaAU_B0Z"
      }
    },
    {
      "cell_type": "code",
      "source": [
        "from sklearn.ensemble import RandomForestClassifier"
      ],
      "metadata": {
        "id": "fX7YByG51Zqt"
      },
      "execution_count": null,
      "outputs": []
    },
    {
      "cell_type": "code",
      "source": [
        "rf = RandomForestClassifier(n_jobs=-1)"
      ],
      "metadata": {
        "id": "u1FncQeNNNtB"
      },
      "execution_count": null,
      "outputs": []
    },
    {
      "cell_type": "code",
      "source": [
        "from sklearn.model_selection import GridSearchCV"
      ],
      "metadata": {
        "id": "Ex0MIMh6QPql"
      },
      "execution_count": null,
      "outputs": []
    },
    {
      "cell_type": "code",
      "source": [
        "para = {'n_estimators': [10,20,50,100,500,700,800,1600],'bootstrap':[True,False],'max_depth':[10,20,30,50,100]}\n",
        "from sklearn.model_selection import GridSearchCV\n",
        "grid_search = GridSearchCV(estimator =rf, param_grid= para, n_jobs=-1, scoring='accuracy')"
      ],
      "metadata": {
        "id": "XSSohafbN5vm"
      },
      "execution_count": null,
      "outputs": []
    },
    {
      "cell_type": "code",
      "source": [
        "grid_search.fit(x_train,y_train)"
      ],
      "metadata": {
        "colab": {
          "base_uri": "https://localhost:8080/"
        },
        "id": "tzZ2FETdR5xc",
        "outputId": "8c7a7591-ed66-45f6-c8ed-7cabeb1c352c"
      },
      "execution_count": null,
      "outputs": [
        {
          "output_type": "execute_result",
          "data": {
            "text/plain": [
              "GridSearchCV(estimator=RandomForestClassifier(n_jobs=-1), n_jobs=-1,\n",
              "             param_grid={'bootstrap': [True, False],\n",
              "                         'max_depth': [10, 20, 30, 50, 100],\n",
              "                         'n_estimators': [10, 20, 50, 100, 500, 700, 800,\n",
              "                                          1600]},\n",
              "             scoring='accuracy')"
            ]
          },
          "metadata": {},
          "execution_count": 35
        }
      ]
    },
    {
      "cell_type": "code",
      "source": [
        "grid_search.best_params_"
      ],
      "metadata": {
        "colab": {
          "base_uri": "https://localhost:8080/"
        },
        "id": "h3jBVg9gwjCi",
        "outputId": "f7eb4ef2-adfb-42cd-acb1-5d70494edf1b"
      },
      "execution_count": null,
      "outputs": [
        {
          "output_type": "execute_result",
          "data": {
            "text/plain": [
              "{'bootstrap': True, 'max_depth': 30, 'n_estimators': 20}"
            ]
          },
          "metadata": {},
          "execution_count": 36
        }
      ]
    },
    {
      "cell_type": "code",
      "source": [
        "pred_rf_grid_search = grid_search.predict(x_test)"
      ],
      "metadata": {
        "id": "73VlOfo-woON"
      },
      "execution_count": null,
      "outputs": []
    },
    {
      "cell_type": "code",
      "source": [
        "grid_search.best_score_"
      ],
      "metadata": {
        "colab": {
          "base_uri": "https://localhost:8080/"
        },
        "id": "z-0mWQGzSysV",
        "outputId": "634699cb-7248-41d2-f449-9b64014a0046"
      },
      "execution_count": null,
      "outputs": [
        {
          "output_type": "execute_result",
          "data": {
            "text/plain": [
              "0.8254706533776301"
            ]
          },
          "metadata": {},
          "execution_count": 38
        }
      ]
    },
    {
      "cell_type": "code",
      "source": [
        "print(confusion_matrix(y_test, pred_rf_grid_search))\n",
        "print('\\n')\n",
        "print(classification_report(y_test, pred_rf_grid_search))\n",
        "print('Accuracy :'+ str(accuracy_score(y_test,pred_rf_grid_search)*100) +' %' )\n"
      ],
      "metadata": {
        "colab": {
          "base_uri": "https://localhost:8080/"
        },
        "id": "STqWmQ7guSIa",
        "outputId": "18f136be-03b5-4727-f192-f4197a2206ee"
      },
      "execution_count": null,
      "outputs": [
        {
          "output_type": "stream",
          "name": "stdout",
          "text": [
            "[[33 11]\n",
            " [ 7 40]]\n",
            "\n",
            "\n",
            "              precision    recall  f1-score   support\n",
            "\n",
            "           0       0.82      0.75      0.79        44\n",
            "           1       0.78      0.85      0.82        47\n",
            "\n",
            "    accuracy                           0.80        91\n",
            "   macro avg       0.80      0.80      0.80        91\n",
            "weighted avg       0.80      0.80      0.80        91\n",
            "\n",
            "Accuracy :80.21978021978022 %\n"
          ]
        }
      ]
    },
    {
      "cell_type": "markdown",
      "source": [
        "SVM"
      ],
      "metadata": {
        "id": "Le6rytGqWhiV"
      }
    },
    {
      "cell_type": "code",
      "source": [
        "from sklearn.svm import SVC"
      ],
      "metadata": {
        "id": "kyr6zOsMVFZu"
      },
      "execution_count": null,
      "outputs": []
    },
    {
      "cell_type": "code",
      "source": [
        "svm = SVC()"
      ],
      "metadata": {
        "id": "86llTDkcsymy"
      },
      "execution_count": null,
      "outputs": []
    },
    {
      "cell_type": "code",
      "source": [
        "para = {'C':[0.0001,0.001,0.1,1,10,50,100,200,500,6000,100000],'gamma':[0.000001,0.001,0.01,0.1,1,10,50,100,200]}"
      ],
      "metadata": {
        "id": "C6EdBkGnWv-I"
      },
      "execution_count": null,
      "outputs": []
    },
    {
      "cell_type": "code",
      "source": [
        "grid_search=GridSearchCV(SVC(),param_grid=para,refit=True,verbose=0)"
      ],
      "metadata": {
        "id": "e8-G8ZK0WzgS"
      },
      "execution_count": null,
      "outputs": []
    },
    {
      "cell_type": "code",
      "source": [
        "grid_search.fit(x_train,y_train)"
      ],
      "metadata": {
        "colab": {
          "base_uri": "https://localhost:8080/"
        },
        "id": "K0TDxKZmXqMn",
        "outputId": "cdc87fd0-94b6-4095-8c64-a5f0ad141b20"
      },
      "execution_count": null,
      "outputs": [
        {
          "output_type": "execute_result",
          "data": {
            "text/plain": [
              "GridSearchCV(estimator=SVC(),\n",
              "             param_grid={'C': [0.0001, 0.001, 0.1, 1, 10, 50, 100, 200, 500,\n",
              "                               6000, 100000],\n",
              "                         'gamma': [1e-06, 0.001, 0.01, 0.1, 1, 10, 50, 100,\n",
              "                                   200]})"
            ]
          },
          "metadata": {},
          "execution_count": 44
        }
      ]
    },
    {
      "cell_type": "code",
      "source": [
        "grid_search.best_params_"
      ],
      "metadata": {
        "colab": {
          "base_uri": "https://localhost:8080/"
        },
        "id": "OhdVcvcvb6b2",
        "outputId": "5bbc6c00-7724-4e97-e14e-ad0f874323b0"
      },
      "execution_count": null,
      "outputs": [
        {
          "output_type": "execute_result",
          "data": {
            "text/plain": [
              "{'C': 100000, 'gamma': 1e-06}"
            ]
          },
          "metadata": {},
          "execution_count": 45
        }
      ]
    },
    {
      "cell_type": "code",
      "source": [
        "pred_svm_grid_search = grid_search.predict(x_test)"
      ],
      "metadata": {
        "id": "-cSnR92xswfR"
      },
      "execution_count": null,
      "outputs": []
    },
    {
      "cell_type": "code",
      "source": [
        "print(confusion_matrix(y_test, pred_svm_grid_search))\n",
        "print('\\n')\n",
        "print(classification_report(y_test, pred_svm_grid_search))\n",
        "print('Accuracy :'+ str(accuracy_score(y_test,pred_svm_grid_search)*100) +' %' )\n"
      ],
      "metadata": {
        "colab": {
          "base_uri": "https://localhost:8080/"
        },
        "id": "kbG7k5XPtarN",
        "outputId": "3f84a172-79a0-4835-e411-2e1f5663da74"
      },
      "execution_count": null,
      "outputs": [
        {
          "output_type": "stream",
          "name": "stdout",
          "text": [
            "[[33 11]\n",
            " [ 3 44]]\n",
            "\n",
            "\n",
            "              precision    recall  f1-score   support\n",
            "\n",
            "           0       0.92      0.75      0.83        44\n",
            "           1       0.80      0.94      0.86        47\n",
            "\n",
            "    accuracy                           0.85        91\n",
            "   macro avg       0.86      0.84      0.84        91\n",
            "weighted avg       0.86      0.85      0.84        91\n",
            "\n",
            "Accuracy :84.61538461538461 %\n"
          ]
        }
      ]
    },
    {
      "cell_type": "markdown",
      "source": [
        "KMC"
      ],
      "metadata": {
        "id": "HSDJozOThJgc"
      }
    },
    {
      "cell_type": "code",
      "source": [
        "from sklearn.cluster import KMeans"
      ],
      "metadata": {
        "id": "9UEON8uehId9"
      },
      "execution_count": null,
      "outputs": []
    },
    {
      "cell_type": "code",
      "source": [
        "km = KMeans(n_clusters=2)"
      ],
      "metadata": {
        "id": "EprSf8XK3wXV"
      },
      "execution_count": null,
      "outputs": []
    },
    {
      "cell_type": "code",
      "source": [
        "km.fit(x_train,y_train)"
      ],
      "metadata": {
        "colab": {
          "base_uri": "https://localhost:8080/"
        },
        "id": "I_DHcd5e4AGa",
        "outputId": "e4edffed-fe4f-47cc-91eb-ccb70783cff6"
      },
      "execution_count": null,
      "outputs": [
        {
          "output_type": "execute_result",
          "data": {
            "text/plain": [
              "KMeans(n_clusters=2)"
            ]
          },
          "metadata": {},
          "execution_count": 50
        }
      ]
    },
    {
      "cell_type": "code",
      "source": [
        "pred_km =km.predict(x_test)"
      ],
      "metadata": {
        "id": "9X_e8srV4Gv7"
      },
      "execution_count": null,
      "outputs": []
    },
    {
      "cell_type": "code",
      "source": [
        "print(confusion_matrix(y_test, pred_km))\n",
        "print('\\n')\n",
        "print(classification_report(y_test, pred_km))\n",
        "print('Accuracy :'+ str(accuracy_score(y_test,pred_km)*100) +' %' )\n"
      ],
      "metadata": {
        "colab": {
          "base_uri": "https://localhost:8080/"
        },
        "id": "kJaZJjrc4nUp",
        "outputId": "e05eb94e-9d32-4b77-d4cb-1dff793f0881"
      },
      "execution_count": null,
      "outputs": [
        {
          "output_type": "stream",
          "name": "stdout",
          "text": [
            "[[21 23]\n",
            " [14 33]]\n",
            "\n",
            "\n",
            "              precision    recall  f1-score   support\n",
            "\n",
            "           0       0.60      0.48      0.53        44\n",
            "           1       0.59      0.70      0.64        47\n",
            "\n",
            "    accuracy                           0.59        91\n",
            "   macro avg       0.59      0.59      0.59        91\n",
            "weighted avg       0.59      0.59      0.59        91\n",
            "\n",
            "Accuracy :59.34065934065934 %\n"
          ]
        }
      ]
    },
    {
      "cell_type": "markdown",
      "source": [
        "ANN"
      ],
      "metadata": {
        "id": "vAcd1pIRTblR"
      }
    },
    {
      "cell_type": "code",
      "source": [
        "from sklearn.preprocessing import MinMaxScaler"
      ],
      "metadata": {
        "id": "zQOMhDukDB20"
      },
      "execution_count": null,
      "outputs": []
    },
    {
      "cell_type": "code",
      "source": [
        "scaler=MinMaxScaler()"
      ],
      "metadata": {
        "id": "QHVUdRPNEJP3"
      },
      "execution_count": null,
      "outputs": []
    },
    {
      "cell_type": "code",
      "source": [
        "x_train=scaler.fit_transform(x_train)"
      ],
      "metadata": {
        "id": "UUztN1GyEO3l"
      },
      "execution_count": null,
      "outputs": []
    },
    {
      "cell_type": "code",
      "source": [
        "x_test =scaler.transform(x_test)"
      ],
      "metadata": {
        "id": "fpRzxOIT0qkV"
      },
      "execution_count": null,
      "outputs": []
    },
    {
      "cell_type": "code",
      "source": [
        "from tensorflow.keras.models import Sequential\n",
        "from tensorflow.keras.layers import Dense"
      ],
      "metadata": {
        "id": "lqx6hhxu1AGX"
      },
      "execution_count": null,
      "outputs": []
    },
    {
      "cell_type": "code",
      "source": [
        "x_train.shape"
      ],
      "metadata": {
        "colab": {
          "base_uri": "https://localhost:8080/"
        },
        "id": "umsaxNZB1yMV",
        "outputId": "10d85e1d-6587-40f8-b7e2-065d622ccaee"
      },
      "execution_count": null,
      "outputs": [
        {
          "output_type": "execute_result",
          "data": {
            "text/plain": [
              "(212, 13)"
            ]
          },
          "metadata": {},
          "execution_count": 58
        }
      ]
    },
    {
      "cell_type": "code",
      "source": [
        "seq=Sequential()\n",
        "seq.add(Dense(13,activation='relu'))\n",
        "seq.add(Dense(20,activation='relu'))\n",
        "seq.add(Dense(1,activation='sigmoid'))\n",
        "seq.compile(optimizer='adam',loss='binary_crossentropy')"
      ],
      "metadata": {
        "id": "Yc5dGT4t152B"
      },
      "execution_count": null,
      "outputs": []
    },
    {
      "cell_type": "code",
      "source": [
        "seq.fit(x=x_train,y=y_train,epochs=120,validation_data=(x_test,y_test))"
      ],
      "metadata": {
        "colab": {
          "base_uri": "https://localhost:8080/"
        },
        "id": "JqPsDlzS46qM",
        "outputId": "d13db61b-37b0-4d8e-e00d-84ad383ffbcc"
      },
      "execution_count": null,
      "outputs": [
        {
          "output_type": "stream",
          "name": "stdout",
          "text": [
            "Epoch 1/120\n",
            "7/7 [==============================] - 1s 31ms/step - loss: 0.7304 - val_loss: 0.7129\n",
            "Epoch 2/120\n",
            "7/7 [==============================] - 0s 7ms/step - loss: 0.7159 - val_loss: 0.7035\n",
            "Epoch 3/120\n",
            "7/7 [==============================] - 0s 9ms/step - loss: 0.7047 - val_loss: 0.6957\n",
            "Epoch 4/120\n",
            "7/7 [==============================] - 0s 8ms/step - loss: 0.6969 - val_loss: 0.6893\n",
            "Epoch 5/120\n",
            "7/7 [==============================] - 0s 7ms/step - loss: 0.6893 - val_loss: 0.6832\n",
            "Epoch 6/120\n",
            "7/7 [==============================] - 0s 10ms/step - loss: 0.6828 - val_loss: 0.6769\n",
            "Epoch 7/120\n",
            "7/7 [==============================] - 0s 8ms/step - loss: 0.6759 - val_loss: 0.6701\n",
            "Epoch 8/120\n",
            "7/7 [==============================] - 0s 7ms/step - loss: 0.6685 - val_loss: 0.6631\n",
            "Epoch 9/120\n",
            "7/7 [==============================] - 0s 10ms/step - loss: 0.6611 - val_loss: 0.6551\n",
            "Epoch 10/120\n",
            "7/7 [==============================] - 0s 6ms/step - loss: 0.6525 - val_loss: 0.6458\n",
            "Epoch 11/120\n",
            "7/7 [==============================] - 0s 9ms/step - loss: 0.6432 - val_loss: 0.6359\n",
            "Epoch 12/120\n",
            "7/7 [==============================] - 0s 6ms/step - loss: 0.6341 - val_loss: 0.6242\n",
            "Epoch 13/120\n",
            "7/7 [==============================] - 0s 9ms/step - loss: 0.6232 - val_loss: 0.6123\n",
            "Epoch 14/120\n",
            "7/7 [==============================] - 0s 7ms/step - loss: 0.6128 - val_loss: 0.5993\n",
            "Epoch 15/120\n",
            "7/7 [==============================] - 0s 6ms/step - loss: 0.6010 - val_loss: 0.5858\n",
            "Epoch 16/120\n",
            "7/7 [==============================] - 0s 9ms/step - loss: 0.5893 - val_loss: 0.5709\n",
            "Epoch 17/120\n",
            "7/7 [==============================] - 0s 9ms/step - loss: 0.5767 - val_loss: 0.5559\n",
            "Epoch 18/120\n",
            "7/7 [==============================] - 0s 10ms/step - loss: 0.5627 - val_loss: 0.5415\n",
            "Epoch 19/120\n",
            "7/7 [==============================] - 0s 9ms/step - loss: 0.5503 - val_loss: 0.5252\n",
            "Epoch 20/120\n",
            "7/7 [==============================] - 0s 11ms/step - loss: 0.5366 - val_loss: 0.5088\n",
            "Epoch 21/120\n",
            "7/7 [==============================] - 0s 8ms/step - loss: 0.5227 - val_loss: 0.4934\n",
            "Epoch 22/120\n",
            "7/7 [==============================] - 0s 7ms/step - loss: 0.5100 - val_loss: 0.4788\n",
            "Epoch 23/120\n",
            "7/7 [==============================] - 0s 7ms/step - loss: 0.4968 - val_loss: 0.4647\n",
            "Epoch 24/120\n",
            "7/7 [==============================] - 0s 8ms/step - loss: 0.4852 - val_loss: 0.4518\n",
            "Epoch 25/120\n",
            "7/7 [==============================] - 0s 10ms/step - loss: 0.4733 - val_loss: 0.4383\n",
            "Epoch 26/120\n",
            "7/7 [==============================] - 0s 10ms/step - loss: 0.4610 - val_loss: 0.4273\n",
            "Epoch 27/120\n",
            "7/7 [==============================] - 0s 10ms/step - loss: 0.4518 - val_loss: 0.4161\n",
            "Epoch 28/120\n",
            "7/7 [==============================] - 0s 11ms/step - loss: 0.4424 - val_loss: 0.4061\n",
            "Epoch 29/120\n",
            "7/7 [==============================] - 0s 7ms/step - loss: 0.4335 - val_loss: 0.3976\n",
            "Epoch 30/120\n",
            "7/7 [==============================] - 0s 10ms/step - loss: 0.4268 - val_loss: 0.3912\n",
            "Epoch 31/120\n",
            "7/7 [==============================] - 0s 8ms/step - loss: 0.4197 - val_loss: 0.3848\n",
            "Epoch 32/120\n",
            "7/7 [==============================] - 0s 10ms/step - loss: 0.4153 - val_loss: 0.3803\n",
            "Epoch 33/120\n",
            "7/7 [==============================] - 0s 10ms/step - loss: 0.4092 - val_loss: 0.3750\n",
            "Epoch 34/120\n",
            "7/7 [==============================] - 0s 10ms/step - loss: 0.4047 - val_loss: 0.3708\n",
            "Epoch 35/120\n",
            "7/7 [==============================] - 0s 9ms/step - loss: 0.4009 - val_loss: 0.3677\n",
            "Epoch 36/120\n",
            "7/7 [==============================] - 0s 8ms/step - loss: 0.3985 - val_loss: 0.3643\n",
            "Epoch 37/120\n",
            "7/7 [==============================] - 0s 9ms/step - loss: 0.3934 - val_loss: 0.3617\n",
            "Epoch 38/120\n",
            "7/7 [==============================] - 0s 7ms/step - loss: 0.3916 - val_loss: 0.3596\n",
            "Epoch 39/120\n",
            "7/7 [==============================] - 0s 8ms/step - loss: 0.3870 - val_loss: 0.3577\n",
            "Epoch 40/120\n",
            "7/7 [==============================] - 0s 8ms/step - loss: 0.3852 - val_loss: 0.3562\n",
            "Epoch 41/120\n",
            "7/7 [==============================] - 0s 7ms/step - loss: 0.3838 - val_loss: 0.3550\n",
            "Epoch 42/120\n",
            "7/7 [==============================] - 0s 10ms/step - loss: 0.3807 - val_loss: 0.3537\n",
            "Epoch 43/120\n",
            "7/7 [==============================] - 0s 7ms/step - loss: 0.3791 - val_loss: 0.3528\n",
            "Epoch 44/120\n",
            "7/7 [==============================] - 0s 7ms/step - loss: 0.3766 - val_loss: 0.3516\n",
            "Epoch 45/120\n",
            "7/7 [==============================] - 0s 8ms/step - loss: 0.3757 - val_loss: 0.3508\n",
            "Epoch 46/120\n",
            "7/7 [==============================] - 0s 10ms/step - loss: 0.3749 - val_loss: 0.3503\n",
            "Epoch 47/120\n",
            "7/7 [==============================] - 0s 7ms/step - loss: 0.3735 - val_loss: 0.3499\n",
            "Epoch 48/120\n",
            "7/7 [==============================] - 0s 10ms/step - loss: 0.3716 - val_loss: 0.3493\n",
            "Epoch 49/120\n",
            "7/7 [==============================] - 0s 10ms/step - loss: 0.3702 - val_loss: 0.3491\n",
            "Epoch 50/120\n",
            "7/7 [==============================] - 0s 11ms/step - loss: 0.3685 - val_loss: 0.3487\n",
            "Epoch 51/120\n",
            "7/7 [==============================] - 0s 10ms/step - loss: 0.3682 - val_loss: 0.3478\n",
            "Epoch 52/120\n",
            "7/7 [==============================] - 0s 9ms/step - loss: 0.3664 - val_loss: 0.3474\n",
            "Epoch 53/120\n",
            "7/7 [==============================] - 0s 8ms/step - loss: 0.3654 - val_loss: 0.3473\n",
            "Epoch 54/120\n",
            "7/7 [==============================] - 0s 8ms/step - loss: 0.3639 - val_loss: 0.3468\n",
            "Epoch 55/120\n",
            "7/7 [==============================] - 0s 8ms/step - loss: 0.3630 - val_loss: 0.3464\n",
            "Epoch 56/120\n",
            "7/7 [==============================] - 0s 8ms/step - loss: 0.3627 - val_loss: 0.3467\n",
            "Epoch 57/120\n",
            "7/7 [==============================] - 0s 9ms/step - loss: 0.3620 - val_loss: 0.3465\n",
            "Epoch 58/120\n",
            "7/7 [==============================] - 0s 9ms/step - loss: 0.3604 - val_loss: 0.3459\n",
            "Epoch 59/120\n",
            "7/7 [==============================] - 0s 9ms/step - loss: 0.3612 - val_loss: 0.3463\n",
            "Epoch 60/120\n",
            "7/7 [==============================] - 0s 10ms/step - loss: 0.3593 - val_loss: 0.3457\n",
            "Epoch 61/120\n",
            "7/7 [==============================] - 0s 8ms/step - loss: 0.3586 - val_loss: 0.3455\n",
            "Epoch 62/120\n",
            "7/7 [==============================] - 0s 10ms/step - loss: 0.3579 - val_loss: 0.3449\n",
            "Epoch 63/120\n",
            "7/7 [==============================] - 0s 9ms/step - loss: 0.3574 - val_loss: 0.3453\n",
            "Epoch 64/120\n",
            "7/7 [==============================] - 0s 7ms/step - loss: 0.3578 - val_loss: 0.3454\n",
            "Epoch 65/120\n",
            "7/7 [==============================] - 0s 10ms/step - loss: 0.3558 - val_loss: 0.3450\n",
            "Epoch 66/120\n",
            "7/7 [==============================] - 0s 7ms/step - loss: 0.3552 - val_loss: 0.3448\n",
            "Epoch 67/120\n",
            "7/7 [==============================] - 0s 10ms/step - loss: 0.3542 - val_loss: 0.3442\n",
            "Epoch 68/120\n",
            "7/7 [==============================] - 0s 7ms/step - loss: 0.3542 - val_loss: 0.3442\n",
            "Epoch 69/120\n",
            "7/7 [==============================] - 0s 7ms/step - loss: 0.3531 - val_loss: 0.3441\n",
            "Epoch 70/120\n",
            "7/7 [==============================] - 0s 10ms/step - loss: 0.3522 - val_loss: 0.3442\n",
            "Epoch 71/120\n",
            "7/7 [==============================] - 0s 10ms/step - loss: 0.3522 - val_loss: 0.3440\n",
            "Epoch 72/120\n",
            "7/7 [==============================] - 0s 10ms/step - loss: 0.3511 - val_loss: 0.3441\n",
            "Epoch 73/120\n",
            "7/7 [==============================] - 0s 12ms/step - loss: 0.3540 - val_loss: 0.3442\n",
            "Epoch 74/120\n",
            "7/7 [==============================] - 0s 7ms/step - loss: 0.3505 - val_loss: 0.3450\n",
            "Epoch 75/120\n",
            "7/7 [==============================] - 0s 9ms/step - loss: 0.3502 - val_loss: 0.3448\n",
            "Epoch 76/120\n",
            "7/7 [==============================] - 0s 7ms/step - loss: 0.3501 - val_loss: 0.3445\n",
            "Epoch 77/120\n",
            "7/7 [==============================] - 0s 14ms/step - loss: 0.3489 - val_loss: 0.3444\n",
            "Epoch 78/120\n",
            "7/7 [==============================] - 0s 15ms/step - loss: 0.3479 - val_loss: 0.3441\n",
            "Epoch 79/120\n",
            "7/7 [==============================] - 0s 13ms/step - loss: 0.3476 - val_loss: 0.3437\n",
            "Epoch 80/120\n",
            "7/7 [==============================] - 0s 14ms/step - loss: 0.3481 - val_loss: 0.3439\n",
            "Epoch 81/120\n",
            "7/7 [==============================] - 0s 13ms/step - loss: 0.3467 - val_loss: 0.3440\n",
            "Epoch 82/120\n",
            "7/7 [==============================] - 0s 14ms/step - loss: 0.3460 - val_loss: 0.3442\n",
            "Epoch 83/120\n",
            "7/7 [==============================] - 0s 14ms/step - loss: 0.3466 - val_loss: 0.3441\n",
            "Epoch 84/120\n",
            "7/7 [==============================] - 0s 13ms/step - loss: 0.3452 - val_loss: 0.3443\n",
            "Epoch 85/120\n",
            "7/7 [==============================] - 0s 9ms/step - loss: 0.3468 - val_loss: 0.3438\n",
            "Epoch 86/120\n",
            "7/7 [==============================] - 0s 10ms/step - loss: 0.3450 - val_loss: 0.3434\n",
            "Epoch 87/120\n",
            "7/7 [==============================] - 0s 7ms/step - loss: 0.3440 - val_loss: 0.3433\n",
            "Epoch 88/120\n",
            "7/7 [==============================] - 0s 10ms/step - loss: 0.3441 - val_loss: 0.3434\n",
            "Epoch 89/120\n",
            "7/7 [==============================] - 0s 7ms/step - loss: 0.3428 - val_loss: 0.3437\n",
            "Epoch 90/120\n",
            "7/7 [==============================] - 0s 11ms/step - loss: 0.3424 - val_loss: 0.3434\n",
            "Epoch 91/120\n",
            "7/7 [==============================] - 0s 8ms/step - loss: 0.3421 - val_loss: 0.3433\n",
            "Epoch 92/120\n",
            "7/7 [==============================] - 0s 6ms/step - loss: 0.3411 - val_loss: 0.3432\n",
            "Epoch 93/120\n",
            "7/7 [==============================] - 0s 8ms/step - loss: 0.3407 - val_loss: 0.3428\n",
            "Epoch 94/120\n",
            "7/7 [==============================] - 0s 7ms/step - loss: 0.3405 - val_loss: 0.3426\n",
            "Epoch 95/120\n",
            "7/7 [==============================] - 0s 6ms/step - loss: 0.3421 - val_loss: 0.3426\n",
            "Epoch 96/120\n",
            "7/7 [==============================] - 0s 9ms/step - loss: 0.3399 - val_loss: 0.3425\n",
            "Epoch 97/120\n",
            "7/7 [==============================] - 0s 10ms/step - loss: 0.3382 - val_loss: 0.3419\n",
            "Epoch 98/120\n",
            "7/7 [==============================] - 0s 7ms/step - loss: 0.3380 - val_loss: 0.3419\n",
            "Epoch 99/120\n",
            "7/7 [==============================] - 0s 9ms/step - loss: 0.3376 - val_loss: 0.3416\n",
            "Epoch 100/120\n",
            "7/7 [==============================] - 0s 7ms/step - loss: 0.3368 - val_loss: 0.3417\n",
            "Epoch 101/120\n",
            "7/7 [==============================] - 0s 7ms/step - loss: 0.3374 - val_loss: 0.3418\n",
            "Epoch 102/120\n",
            "7/7 [==============================] - 0s 10ms/step - loss: 0.3365 - val_loss: 0.3416\n",
            "Epoch 103/120\n",
            "7/7 [==============================] - 0s 8ms/step - loss: 0.3353 - val_loss: 0.3414\n",
            "Epoch 104/120\n",
            "7/7 [==============================] - 0s 11ms/step - loss: 0.3350 - val_loss: 0.3412\n",
            "Epoch 105/120\n",
            "7/7 [==============================] - 0s 8ms/step - loss: 0.3348 - val_loss: 0.3411\n",
            "Epoch 106/120\n",
            "7/7 [==============================] - 0s 7ms/step - loss: 0.3343 - val_loss: 0.3412\n",
            "Epoch 107/120\n",
            "7/7 [==============================] - 0s 10ms/step - loss: 0.3353 - val_loss: 0.3410\n",
            "Epoch 108/120\n",
            "7/7 [==============================] - 0s 8ms/step - loss: 0.3333 - val_loss: 0.3412\n",
            "Epoch 109/120\n",
            "7/7 [==============================] - 0s 10ms/step - loss: 0.3338 - val_loss: 0.3418\n",
            "Epoch 110/120\n",
            "7/7 [==============================] - 0s 10ms/step - loss: 0.3338 - val_loss: 0.3406\n",
            "Epoch 111/120\n",
            "7/7 [==============================] - 0s 10ms/step - loss: 0.3325 - val_loss: 0.3405\n",
            "Epoch 112/120\n",
            "7/7 [==============================] - 0s 10ms/step - loss: 0.3311 - val_loss: 0.3408\n",
            "Epoch 113/120\n",
            "7/7 [==============================] - 0s 10ms/step - loss: 0.3317 - val_loss: 0.3417\n",
            "Epoch 114/120\n",
            "7/7 [==============================] - 0s 8ms/step - loss: 0.3302 - val_loss: 0.3407\n",
            "Epoch 115/120\n",
            "7/7 [==============================] - 0s 10ms/step - loss: 0.3299 - val_loss: 0.3408\n",
            "Epoch 116/120\n",
            "7/7 [==============================] - 0s 10ms/step - loss: 0.3297 - val_loss: 0.3403\n",
            "Epoch 117/120\n",
            "7/7 [==============================] - 0s 8ms/step - loss: 0.3290 - val_loss: 0.3407\n",
            "Epoch 118/120\n",
            "7/7 [==============================] - 0s 9ms/step - loss: 0.3284 - val_loss: 0.3405\n",
            "Epoch 119/120\n",
            "7/7 [==============================] - 0s 7ms/step - loss: 0.3319 - val_loss: 0.3420\n",
            "Epoch 120/120\n",
            "7/7 [==============================] - 0s 10ms/step - loss: 0.3298 - val_loss: 0.3397\n"
          ]
        },
        {
          "output_type": "execute_result",
          "data": {
            "text/plain": [
              "<keras.callbacks.History at 0x7fb897e5e1d0>"
            ]
          },
          "metadata": {},
          "execution_count": 181
        }
      ]
    },
    {
      "cell_type": "code",
      "source": [
        "losses=pd.DataFrame(seq.history.history)"
      ],
      "metadata": {
        "id": "EfmqZeCw5Zoq"
      },
      "execution_count": null,
      "outputs": []
    },
    {
      "cell_type": "code",
      "source": [
        "losses.plot()"
      ],
      "metadata": {
        "colab": {
          "base_uri": "https://localhost:8080/",
          "height": 286
        },
        "id": "ItNoGSqf5rKl",
        "outputId": "6cdcd5b9-c6f5-4d39-e773-9663187e52a2"
      },
      "execution_count": null,
      "outputs": [
        {
          "output_type": "execute_result",
          "data": {
            "text/plain": [
              "<matplotlib.axes._subplots.AxesSubplot at 0x7fb8ab94a3d0>"
            ]
          },
          "metadata": {},
          "execution_count": 183
        },
        {
          "output_type": "display_data",
          "data": {
            "image/png": "[encoded data removed]",
            "text/plain": [
              "<Figure size 432x288 with 1 Axes>"
            ]
          },
          "metadata": {
            "needs_background": "light"
          }
        }
      ]
    },
    {
      "cell_type": "code",
      "source": [
        "pred_seq=seq.predict(x_test)"
      ],
      "metadata": {
        "id": "H1iAqmRH56pc"
      },
      "execution_count": null,
      "outputs": []
    },
    {
      "cell_type": "code",
      "source": [
        "final_pred=[]\n",
        "for x in pred_seq:\n",
        "  if x>0.5:\n",
        "    final_pred.append([1])\n",
        "  else:\n",
        "    final_pred.append([0])  \n",
        "\n",
        "final_pred=np.array(final_pred)\n",
        "\n"
      ],
      "metadata": {
        "id": "rTt23M4O6Q7G"
      },
      "execution_count": null,
      "outputs": []
    },
    {
      "cell_type": "code",
      "source": [
        "print(confusion_matrix(y_test, final_pred))\n",
        "print('\\n')\n",
        "print(classification_report(y_test,final_pred))\n",
        "print('Accuracy :'+ str(accuracy_score(y_test,final_pred)*100) +' %' )\n"
      ],
      "metadata": {
        "colab": {
          "base_uri": "https://localhost:8080/"
        },
        "id": "rlwLkLtE7m7a",
        "outputId": "892ece12-00dc-4a9e-faee-54562628a8b8"
      },
      "execution_count": null,
      "outputs": [
        {
          "output_type": "stream",
          "name": "stdout",
          "text": [
            "[[37  7]\n",
            " [ 4 43]]\n",
            "\n",
            "\n",
            "              precision    recall  f1-score   support\n",
            "\n",
            "           0       0.90      0.84      0.87        44\n",
            "           1       0.86      0.91      0.89        47\n",
            "\n",
            "    accuracy                           0.88        91\n",
            "   macro avg       0.88      0.88      0.88        91\n",
            "weighted avg       0.88      0.88      0.88        91\n",
            "\n",
            "Accuracy :87.91208791208791 %\n"
          ]
        }
      ]
    },
    {
      "cell_type": "markdown",
      "source": [
        "CONCLUSION\n"
      ],
      "metadata": {
        "id": "qHdVkTF0_8jW"
      }
    },
    {
      "cell_type": "markdown",
      "source": [
        "OUT OF THE 7 ALGORITHM TESTED FOR THIS DATASET                                   \n",
        "\"LOGISTIC REGRESSION\" and \"ANN\"GAVE THE BEST ACCURACY OF 87.91208791208791 %"
      ],
      "metadata": {
        "id": "_J0RiDXsDz_i"
      }
    }
  ]
}