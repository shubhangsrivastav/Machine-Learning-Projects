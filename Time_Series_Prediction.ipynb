{
  "nbformat": 4,
  "nbformat_minor": 0,
  "metadata": {
    "colab": {
      "name": "Time Series Prediction.ipynb",
      "provenance": [],
      "collapsed_sections": [],
      "include_colab_link": true
    },
    "kernelspec": {
      "name": "python3",
      "display_name": "Python 3"
    },
    "language_info": {
      "name": "python"
    }
  },
  "cells": [
    {
      "cell_type": "markdown",
      "metadata": {
        "id": "view-in-github",
        "colab_type": "text"
      },
      "source": [
        "<a href=\"https://colab.research.google.com/github/shubhangsrivastav/Machine-Learning-Projects/blob/main/Time_Series_Prediction.ipynb\" target=\"_parent\"><img src=\"https://colab.research.google.com/assets/colab-badge.svg\" alt=\"Open In Colab\"/></a>"
      ]
    },
    {
      "cell_type": "code",
      "execution_count": null,
      "metadata": {
        "colab": {
          "base_uri": "https://localhost:8080/"
        },
        "id": "4qzUYa9FxhO0",
        "outputId": "eef4f933-bf00-49f3-f368-e88a8508a44a"
      },
      "outputs": [
        {
          "output_type": "stream",
          "name": "stdout",
          "text": [
            "scipy: 1.4.1\n",
            "numpy: 1.19.5\n",
            "matplotlib: 3.2.2\n",
            "pandas: 1.1.5\n",
            "statsmodels: 0.10.2\n",
            "sklearn: 1.0.1\n"
          ]
        }
      ],
      "source": [
        "# checking the versions of key python libraries & dependencies\n",
        "# scipy\n",
        "import scipy\n",
        "print('scipy: %s' % scipy.__version__)\n",
        "# numpy\n",
        "import numpy\n",
        "print('numpy: %s' % numpy.__version__)\n",
        "# matplotlib\n",
        "import matplotlib\n",
        "print('matplotlib: %s' % matplotlib.__version__)\n",
        "# pandas\n",
        "import pandas\n",
        "print('pandas: %s' % pandas.__version__)\n",
        "# statsmodels\n",
        "import statsmodels\n",
        "print('statsmodels: %s' % statsmodels.__version__)\n",
        "# scikit-learn\n",
        "import sklearn\n",
        "print('sklearn: %s' % sklearn.__version__)"
      ]
    },
    {
      "cell_type": "code",
      "source": [
        "# mounting the google drive to access the dataset from our drive\n",
        "from google.colab import drive\n",
        "drive.mount('/content/drive')"
      ],
      "metadata": {
        "colab": {
          "base_uri": "https://localhost:8080/"
        },
        "id": "yY7xcOsgx2ft",
        "outputId": "17c90a11-938a-44ab-fc46-b7a695b33f1e"
      },
      "execution_count": null,
      "outputs": [
        {
          "output_type": "stream",
          "name": "stdout",
          "text": [
            "Drive already mounted at /content/drive; to attempt to forcibly remount, call drive.mount(\"/content/drive\", force_remount=True).\n"
          ]
        }
      ]
    },
    {
      "cell_type": "markdown",
      "source": [
        "# **Problem Description**\n",
        "The problem is to predict the number of monthly sales of champagne for the Perrin Freres label (named for a region in France).\n",
        "\n",
        "The dataset provides the number of monthly sales of champagne from January 1964 to September 1972, or just under 10 years of data.\n",
        "\n",
        "The values are a count of millions of sales and there are 105 observations."
      ],
      "metadata": {
        "id": "6-qegOOXFM7g"
      }
    },
    {
      "cell_type": "markdown",
      "source": [
        "# Validation Dataset\n",
        "The dataset is not current. This means that we cannot easily collect updated data to validate the model.\n",
        "\n",
        "Therefore we will pretend that it is September 1971 and withhold the last one year of data from analysis and model selection.\n",
        "\n",
        "This final year of data will be used to validate the final model."
      ],
      "metadata": {
        "id": "EgwGsT5cF5YJ"
      }
    },
    {
      "cell_type": "code",
      "source": [
        "# separate out a validation dataset\n",
        "from pandas import read_csv\n",
        "series = read_csv('/content/drive/My Drive/French Champagne Time series forecast/monthly_champagne_sales.csv', header=0,  index_col=0, parse_dates=True, squeeze=True)\n",
        "split_point = len(series) - 12\n",
        "dataset, validation = series[0:split_point], series[split_point:]\n",
        "print('Dataset %d, Validation %d' % (len(dataset), len(validation)))\n",
        "dataset.to_csv('/content/drive/My Drive/French Champagne Time series forecast/dataset.csv', header=False)\n",
        "validation.to_csv('/content/drive/My Drive/French Champagne Time series forecast/validation.csv', header=False)"
      ],
      "metadata": {
        "colab": {
          "base_uri": "https://localhost:8080/"
        },
        "id": "N5wBQx24y6c2",
        "outputId": "31875129-f588-490e-d30e-57171c57c2fb"
      },
      "execution_count": null,
      "outputs": [
        {
          "output_type": "stream",
          "name": "stdout",
          "text": [
            "Dataset 93, Validation 12\n"
          ]
        }
      ]
    },
    {
      "cell_type": "markdown",
      "source": [
        "***Baseline Prediction***:   \n",
        "Now, we will write a simple code that would provide us a baseline prediction and the mena-squared error pertaining to it.\n",
        "In the bellow code we have simply estimated the sales of (i)th month as the sales of (i+1)th month and calculated the mean-squared error. Observe how big of a value the mean-squared error holds"
      ],
      "metadata": {
        "id": "GhSYTU1yGTmB"
      }
    },
    {
      "cell_type": "code",
      "source": [
        "from sklearn.metrics import mean_squared_error\n",
        "from math import sqrt\n",
        "# prepare data\n",
        "X = series.values\n",
        "X = X.astype('float32')\n",
        "train_size = int(len(X) * 0.50)\n",
        "train, test = X[0:train_size], X[train_size:]\n",
        "history = [x for x in train]\n",
        "predictions = list()\n",
        "for i in range(len(test)):\n",
        "\t# predict\n",
        "\tyhat = history[-1]\n",
        "\tpredictions.append(yhat)\n",
        "\t# observation\n",
        "\tobs = test[i]\n",
        "\thistory.append(obs)\n",
        "\tprint('>Predicted=%.3f, Expected=%3.f' % (yhat, obs))\n",
        "# report performance\n",
        "mse = mean_squared_error(test, predictions)\n",
        "rmse = sqrt(mse)\n",
        "print('RMSE: %.3f' % rmse)"
      ],
      "metadata": {
        "colab": {
          "base_uri": "https://localhost:8080/"
        },
        "id": "SyzpLpoLDkqB",
        "outputId": "c7ef5e2a-d6fc-4b2c-af78-980d82e3cbdf"
      },
      "execution_count": null,
      "outputs": [
        {
          "output_type": "stream",
          "name": "stdout",
          "text": [
            ">Predicted=4121.000, Expected=4647\n",
            ">Predicted=4647.000, Expected=4753\n",
            ">Predicted=4753.000, Expected=3965\n",
            ">Predicted=3965.000, Expected=1723\n",
            ">Predicted=1723.000, Expected=5048\n",
            ">Predicted=5048.000, Expected=6922\n",
            ">Predicted=6922.000, Expected=9858\n",
            ">Predicted=9858.000, Expected=11331\n",
            ">Predicted=11331.000, Expected=4016\n",
            ">Predicted=4016.000, Expected=3957\n",
            ">Predicted=3957.000, Expected=4510\n",
            ">Predicted=4510.000, Expected=4276\n",
            ">Predicted=4276.000, Expected=4968\n",
            ">Predicted=4968.000, Expected=4677\n",
            ">Predicted=4677.000, Expected=3523\n",
            ">Predicted=3523.000, Expected=1821\n",
            ">Predicted=1821.000, Expected=5222\n",
            ">Predicted=5222.000, Expected=6872\n",
            ">Predicted=6872.000, Expected=10803\n",
            ">Predicted=10803.000, Expected=13916\n",
            ">Predicted=13916.000, Expected=2639\n",
            ">Predicted=2639.000, Expected=2899\n",
            ">Predicted=2899.000, Expected=3370\n",
            ">Predicted=3370.000, Expected=3740\n",
            ">Predicted=3740.000, Expected=2927\n",
            ">Predicted=2927.000, Expected=3986\n",
            ">Predicted=3986.000, Expected=4217\n",
            ">Predicted=4217.000, Expected=1738\n",
            ">Predicted=1738.000, Expected=5221\n",
            ">Predicted=5221.000, Expected=6424\n",
            ">Predicted=6424.000, Expected=9842\n",
            ">Predicted=9842.000, Expected=13076\n",
            ">Predicted=13076.000, Expected=3934\n",
            ">Predicted=3934.000, Expected=3162\n",
            ">Predicted=3162.000, Expected=4286\n",
            ">Predicted=4286.000, Expected=4676\n",
            ">Predicted=4676.000, Expected=5010\n",
            ">Predicted=5010.000, Expected=4874\n",
            ">Predicted=4874.000, Expected=4633\n",
            ">Predicted=4633.000, Expected=1659\n",
            ">Predicted=1659.000, Expected=5951\n",
            ">Predicted=5951.000, Expected=6981\n",
            ">Predicted=6981.000, Expected=9851\n",
            ">Predicted=9851.000, Expected=12670\n",
            ">Predicted=12670.000, Expected=4348\n",
            ">Predicted=4348.000, Expected=3564\n",
            ">Predicted=3564.000, Expected=4577\n",
            ">Predicted=4577.000, Expected=4788\n",
            ">Predicted=4788.000, Expected=4618\n",
            ">Predicted=4618.000, Expected=5312\n",
            ">Predicted=5312.000, Expected=4298\n",
            ">Predicted=4298.000, Expected=1413\n",
            ">Predicted=1413.000, Expected=5877\n",
            "RMSE: 3167.362\n"
          ]
        }
      ]
    },
    {
      "cell_type": "markdown",
      "source": [
        "# **Data Analysis**\n",
        "Moving on to the actual forecasting and analysis part.\n",
        "We can use summary statistics and plots of the data to quickly learn more about the structure of the prediction problem.\n",
        "\n",
        "In this section, we will look at the data from five perspectives:\n",
        "\n",
        "*   Summary Statistics\n",
        "*   Line Plot\n",
        "*   Seasonal Line Plots\n",
        "*   Density Plots\n",
        "*   Box & Whisker Plots\n",
        "\n",
        "\n",
        "\n",
        "\n",
        "\n"
      ],
      "metadata": {
        "id": "GXSsSo1QH_i4"
      }
    },
    {
      "cell_type": "markdown",
      "source": [
        "## Summary Statistics\n",
        "Summary statistics provide a quick look at the limits of observed values. It can help to get a quick idea of what we are working with."
      ],
      "metadata": {
        "id": "Uj3A_YjAK64-"
      }
    },
    {
      "cell_type": "code",
      "source": [
        "# ------SUMMARY STATISTICS-------\n",
        "dataset.describe()"
      ],
      "metadata": {
        "id": "dgxk12nAM8js",
        "colab": {
          "base_uri": "https://localhost:8080/"
        },
        "outputId": "442f7df0-e315-44ca-a813-f44d8d925632"
      },
      "execution_count": null,
      "outputs": [
        {
          "output_type": "execute_result",
          "data": {
            "text/plain": [
              "count       93.000000\n",
              "mean      4641.118280\n",
              "std       2486.403841\n",
              "min       1573.000000\n",
              "25%       3036.000000\n",
              "50%       4016.000000\n",
              "75%       5048.000000\n",
              "max      13916.000000\n",
              "Name: Sales, dtype: float64"
            ]
          },
          "metadata": {},
          "execution_count": 19
        }
      ]
    },
    {
      "cell_type": "markdown",
      "source": [
        "## Line Plot\n",
        "Some observations from the plot include:\n",
        "\n",
        "*   There may be an increasing trend of sales over time.\n",
        "*   There appears to be systematic seasonality to the sales for each year.\n",
        "*   The seasonal signal appears to be growing over time, suggesting a multiplicative relationship (increasing change).\n",
        "*   There do not appear to be any obvious outliers.\n",
        "*   The seasonality suggests that the series is almost certainly non-stationary.\n",
        "\n",
        "\n"
      ],
      "metadata": {
        "id": "WIQkbmbfLGzF"
      }
    },
    {
      "cell_type": "code",
      "source": [
        "# --------LINE PLOT---------\n",
        "import matplotlib.pyplot as plt\n",
        "dataset.plot()\n",
        "plt.show()"
      ],
      "metadata": {
        "colab": {
          "base_uri": "https://localhost:8080/",
          "height": 279
        },
        "id": "UpfIG8_LgqiI",
        "outputId": "bc186421-badd-4b81-bb36-e3c138a51443"
      },
      "execution_count": null,
      "outputs": [
        {
          "output_type": "display_data",
          "data": {
            "image/png": "[encoded data removed]",
            "text/plain": [
              "<Figure size 432x288 with 1 Axes>"
            ]
          },
          "metadata": {
            "needs_background": "light"
          }
        }
      ]
    },
    {
      "cell_type": "markdown",
      "source": [
        "## Seasonal Line Plots\n",
        "We can confirm the assumption that the seasonality is a yearly cycle by eyeballing line plots of the dataset by year.\n",
        "We can clearly see a dip each August and a rise from each August to December. This pattern appears the same each year, although at different levels."
      ],
      "metadata": {
        "id": "H4S9nVpUNAz1"
      }
    },
    {
      "cell_type": "code",
      "source": [
        "# -----------SEASONAL LINE PLOT--------------\n",
        "from pandas import DataFrame\n",
        "from pandas import Grouper\n",
        "from matplotlib import pyplot\n",
        "groups = dataset['1964':'1970'].groupby(Grouper(freq='A'))\n",
        "years = DataFrame()\n",
        "pyplot.figure(figsize = (10, 12))\n",
        "i = 1\n",
        "n_groups = len(groups)\n",
        "for name, group in groups:\n",
        "\tpyplot.subplot((n_groups*100) + 10 + i)\n",
        "\ti += 1\n",
        "\tpyplot.plot(group)\n",
        "pyplot.show()"
      ],
      "metadata": {
        "colab": {
          "base_uri": "https://localhost:8080/",
          "height": 700
        },
        "id": "ie4Pl6Z4h_Tp",
        "outputId": "4a166ee6-b99d-4406-930c-c430e93553c3"
      },
      "execution_count": null,
      "outputs": [
        {
          "output_type": "display_data",
          "data": {
            "image/png": "[encoded data removed]",
            "text/plain": [
              "<Figure size 720x864 with 7 Axes>"
            ]
          },
          "metadata": {
            "needs_background": "light"
          }
        }
      ]
    },
    {
      "cell_type": "markdown",
      "source": [
        "## Density Plot\n",
        "Reviewing plots of the density of observations can provide further insight into the structure of the data.\n",
        "\n",
        "The example below creates a histogram and density plot of the observations without any temporal structure."
      ],
      "metadata": {
        "id": "WS7TzyzSNZpU"
      }
    },
    {
      "cell_type": "code",
      "source": [
        "# -------------DENSITY PLOT--------------\n",
        "from matplotlib import pyplot\n",
        "pyplot.figure(1)\n",
        "pyplot.subplot(211)\n",
        "dataset.hist()\n",
        "pyplot.subplot(212)\n",
        "dataset.plot(kind='kde')\n",
        "pyplot.show()"
      ],
      "metadata": {
        "colab": {
          "base_uri": "https://localhost:8080/",
          "height": 265
        },
        "id": "aJQqZRCAkSi-",
        "outputId": "0ff63b10-a1d2-46fd-f190-689e2d0139a1"
      },
      "execution_count": null,
      "outputs": [
        {
          "output_type": "display_data",
          "data": {
            "image/png": "[encoded data removed]",
            "text/plain": [
              "<Figure size 432x288 with 2 Axes>"
            ]
          },
          "metadata": {
            "needs_background": "light"
          }
        }
      ]
    },
    {
      "cell_type": "markdown",
      "source": [
        "# Box and Whisker Plots\n",
        "We can group the monthly data by year and get an idea of the spread of observations for each year and how this may be changing.\n",
        "\n",
        "We do expect to see some trend (increasing mean or median), but it may be interesting to see how the rest of the distribution may be changing.\n",
        "\n",
        "Some observations from reviewing the plots include:\n",
        "\n",
        "*   The median values for each year (green line) may show an increasing trend.\n",
        "*   The inter-quartile range or middle 50% of the data (blue boxes) does appear reasonably stable.\n",
        "*   There are outliers each year (black hollow dots); these may be the tops or bottoms of the seasonal cycle.\n",
        "*   The last year, 1970, does look different from the trend in prior years\n",
        "\n"
      ],
      "metadata": {
        "id": "ajVexu7VN5lN"
      }
    },
    {
      "cell_type": "code",
      "source": [
        "# ----------BOX & WHISKER PLOT-------------\n",
        "years = DataFrame()\n",
        "for name, group in groups:\n",
        "\tyears[name.year] = group.values\n",
        "years.boxplot(figsize=(9, 7))\n",
        "pyplot.show()"
      ],
      "metadata": {
        "id": "dFCs_h1slb0J",
        "colab": {
          "base_uri": "https://localhost:8080/",
          "height": 428
        },
        "outputId": "18e55638-8965-497c-a788-ef28ca541942"
      },
      "execution_count": null,
      "outputs": [
        {
          "output_type": "display_data",
          "data": {
            "image/png": "[encoded data removed]",
            "text/plain": [
              "<Figure size 648x504 with 1 Axes>"
            ]
          },
          "metadata": {
            "needs_background": "light"
          }
        }
      ]
    },
    {
      "cell_type": "markdown",
      "source": [
        "# **ARIMA Models**\n",
        "In this section, we will develop Autoregressive Integrated Moving Average, or ARIMA, models for the problem.\n",
        "\n",
        "As such, this section is broken down into 3 steps:\n",
        "\n",
        "*   Manually Configured ARIMA\n",
        "*   Automatically configured ARIMA\n",
        "*   Reviewing Residual Errors|\n",
        "\n"
      ],
      "metadata": {
        "id": "fNbi8TXqyE3y"
      }
    },
    {
      "cell_type": "markdown",
      "source": [
        "# Manually Configured ARIMA\n",
        "The **ARIMA(p,d,q)** model requires three parameters and is traditionally configured manually.Analysis of the time series data assumes that we are working with a **stationary time series**.\n",
        "\n",
        "The time series is almost certainly non-stationary. We can make it stationary this by **first differencing the series and using a statistical test to confirm that the result is stationary**.\n",
        "\n",
        "The seasonality in the series is seemingly year-to-year. Seasonal data can be differenced by **subtracting the observation from the same time in the previous cycle**, in this case the same month in the previous year. This does mean that we will lose the first year of observations as there is no prior year to difference with.\n",
        "\n",
        "The example below creates a deseasonalized version of the series and saves it to file **stationary.csv.**"
      ],
      "metadata": {
        "id": "khfAhoERyhVw"
      }
    },
    {
      "cell_type": "code",
      "source": [
        "from pandas import read_csv\n",
        "from pandas import Series\n",
        "from statsmodels.tsa.stattools import adfuller\n",
        "from matplotlib import pyplot\n",
        "\n",
        "# create a differenced series\n",
        "def difference(dataset, interval=1):\n",
        "\tdiff = list()\n",
        "\tfor i in range(interval, len(dataset)):\n",
        "\t\tvalue = dataset[i] - dataset[i - interval]\n",
        "\t\tdiff.append(value)\n",
        "\treturn Series(diff)\n",
        "\n",
        "X = dataset.values\n",
        "X = X.astype('float32')\n",
        "# difference data\n",
        "months_in_year = 12\n",
        "stationary = difference(X, months_in_year)\n",
        "stationary.index = dataset.index[months_in_year:]\n",
        "# check if stationary\n",
        "result = adfuller(stationary)\n",
        "print('ADF Statistic: %f' % result[0])\n",
        "print('p-value: %f' % result[1])\n",
        "print('Critical Values:')\n",
        "for key, value in result[4].items():\n",
        "\tprint('\\t%s: %.3f' % (key, value))\n",
        "# save\n",
        "stationary.to_csv('stationary.csv', header=False)\n",
        "# plot\n",
        "stationary.plot()\n",
        "pyplot.show()"
      ],
      "metadata": {
        "colab": {
          "base_uri": "https://localhost:8080/",
          "height": 383
        },
        "id": "40vNZPHKrI8B",
        "outputId": "dfa8753c-dbea-471d-a76e-d1499a50491b"
      },
      "execution_count": null,
      "outputs": [
        {
          "output_type": "stream",
          "name": "stdout",
          "text": [
            "ADF Statistic: -7.134898\n",
            "p-value: 0.000000\n",
            "Critical Values:\n",
            "\t1%: -3.515\n",
            "\t5%: -2.898\n",
            "\t10%: -2.586\n"
          ]
        },
        {
          "output_type": "display_data",
          "data": {
            "image/png": "[encoded data removed]",
            "text/plain": [
              "<Figure size 432x288 with 1 Axes>"
            ]
          },
          "metadata": {
            "needs_background": "light"
          }
        }
      ]
    },
    {
      "cell_type": "markdown",
      "source": [
        "The next first step is to select the **lag values** for the **Autoregression (AR) and Moving Average (MA) parameters, p and q** respectively.\n",
        "\n",
        "We can do this by reviewing Autocorrelation Function (ACF) and Partial Autocorrelation Function (PACF) plots."
      ],
      "metadata": {
        "id": "1YVwVBBEzVX4"
      }
    },
    {
      "cell_type": "code",
      "source": [
        "from pandas import read_csv\n",
        "from statsmodels.graphics.tsaplots import plot_acf\n",
        "from statsmodels.graphics.tsaplots import plot_pacf\n",
        "from matplotlib import pyplot\n",
        "pyplot.figure(figsize=(8,8))\n",
        "pyplot.subplot(211)\n",
        "plot_acf(stationary, ax=pyplot.gca())\n",
        "pyplot.subplot(212)\n",
        "plot_pacf(stationary, ax=pyplot.gca())\n",
        "pyplot.show()"
      ],
      "metadata": {
        "colab": {
          "base_uri": "https://localhost:8080/",
          "height": 499
        },
        "id": "ocARNExGwzdP",
        "outputId": "0cc1873d-70c5-4f39-fb6d-aa0fb339b636"
      },
      "execution_count": null,
      "outputs": [
        {
          "output_type": "display_data",
          "data": {
            "image/png": "[encoded data removed]",
            "text/plain": [
              "<Figure size 576x576 with 2 Axes>"
            ]
          },
          "metadata": {
            "needs_background": "light"
          }
        }
      ]
    },
    {
      "cell_type": "markdown",
      "source": [
        "Below are some observations from the plots:\n",
        "\n",
        "*   The ACF shows a significant lag for 1 month\n",
        "*   The PACF shows a significant lag for 1 month, with perhaps some significant lag at 12 and 13 months\n",
        "*   Both the ACF and PACF show a drop-off at the same point, perhaps suggesting a mix of AR and MA.\n",
        "\n",
        "**A good starting point for the p and q values is also 1.**\n",
        "\n",
        "This quick analysis suggests an ARIMA(1,0,1) on the stationary data may be a good starting point.\n",
        "\n",
        "Experimentation shows that this configuration of ARIMA does not converge and results in errors by the underlying library. Further experimentation showed that adding one level of differencing to the stationary data made the model more stable. The model can be extended to **ARIMA(1,1,1)**.\n"
      ],
      "metadata": {
        "id": "zhwt2oCu0hCO"
      }
    },
    {
      "cell_type": "code",
      "source": [
        "# evaluate manually configured ARIMA model\n",
        "from pandas import read_csv\n",
        "from sklearn.metrics import mean_squared_error\n",
        "from statsmodels.tsa.arima_model import ARIMA\n",
        "from math import sqrt\n",
        "\n",
        "# create a differenced series\n",
        "def difference(dataset, interval=1):\n",
        "\tdiff = list()\n",
        "\tfor i in range(interval, len(dataset)):\n",
        "\t\tvalue = dataset[i] - dataset[i - interval]\n",
        "\t\tdiff.append(value)\n",
        "\treturn diff\n",
        "\n",
        "# invert differenced value\n",
        "def inverse_difference(history, yhat, interval=1):\n",
        "\treturn yhat + history[-interval]\n",
        "\n",
        "# load data\n",
        "series = read_csv('/content/drive/My Drive/French Champagne Time series forecast/dataset.csv', header=None, index_col=0, parse_dates=True, squeeze=True)\n",
        "# prepare data\n",
        "X = series.values\n",
        "X = X.astype('float32')\n",
        "train_size = int(len(X) * 0.50)\n",
        "train, test = X[0:train_size], X[train_size:]\n",
        "# walk-forward validation\n",
        "history = [x for x in train]\n",
        "predictions = list()\n",
        "for i in range(len(test)):\n",
        "\t# difference data\n",
        "\tmonths_in_year = 12\n",
        "\tdiff = difference(history, months_in_year)\n",
        "\t# predict\n",
        "\tmodel = ARIMA(diff, order=(1,1,1))\n",
        "\tmodel_fit = model.fit()\n",
        "\tyhat = model_fit.forecast()[0]\n",
        "\tyhat = inverse_difference(history, yhat, months_in_year)\n",
        "\tpredictions.append(yhat)\n",
        "\t# observation\n",
        "\tobs = test[i]\n",
        "\thistory.append(obs)\n",
        "\tprint('>Predicted=%.3f, Expected=%.3f' % (yhat, obs))\n",
        "# report performance\n",
        "rmse = sqrt(mean_squared_error(test, predictions))\n",
        "print('RMSE: %.3f' % rmse)"
      ],
      "metadata": {
        "colab": {
          "base_uri": "https://localhost:8080/"
        },
        "id": "VIXBJYgyznqN",
        "outputId": "67e3302c-138a-4b89-eaa5-b07f78d30584"
      },
      "execution_count": null,
      "outputs": [
        {
          "output_type": "stream",
          "name": "stdout",
          "text": [
            ">Predicted=8281.617, Expected=8314.000\n",
            ">Predicted=9929.826, Expected=10651.000\n",
            ">Predicted=6137.123, Expected=3633.000\n",
            ">Predicted=4017.108, Expected=4292.000\n",
            ">Predicted=4155.148, Expected=4154.000\n",
            ">Predicted=5112.222, Expected=4121.000\n",
            ">Predicted=5203.516, Expected=4647.000\n",
            ">Predicted=5053.482, Expected=4753.000\n",
            ">Predicted=4129.898, Expected=3965.000\n",
            ">Predicted=2077.483, Expected=1723.000\n",
            ">Predicted=5178.607, Expected=5048.000\n",
            ">Predicted=5813.854, Expected=6922.000\n",
            ">Predicted=8585.157, Expected=9858.000\n",
            ">Predicted=11103.941, Expected=11331.000\n",
            ">Predicted=4197.308, Expected=4016.000\n",
            ">Predicted=4873.929, Expected=3957.000\n",
            ">Predicted=4724.829, Expected=4510.000\n",
            ">Predicted=4619.576, Expected=4276.000\n",
            ">Predicted=5134.140, Expected=4968.000\n",
            ">Predicted=5216.122, Expected=4677.000\n",
            ">Predicted=4414.585, Expected=3523.000\n",
            ">Predicted=2114.082, Expected=1821.000\n",
            ">Predicted=5388.371, Expected=5222.000\n",
            ">Predicted=7244.612, Expected=6872.000\n",
            ">Predicted=10158.450, Expected=10803.000\n",
            ">Predicted=11633.133, Expected=13916.000\n",
            ">Predicted=4563.933, Expected=2639.000\n",
            ">Predicted=4544.528, Expected=2899.000\n",
            ">Predicted=4818.999, Expected=3370.000\n",
            ">Predicted=4406.357, Expected=3740.000\n",
            ">Predicted=5050.125, Expected=2927.000\n",
            ">Predicted=4449.553, Expected=3986.000\n",
            ">Predicted=3371.198, Expected=4217.000\n",
            ">Predicted=1868.514, Expected=1738.000\n",
            ">Predicted=5172.361, Expected=5221.000\n",
            ">Predicted=6823.426, Expected=6424.000\n",
            ">Predicted=10676.610, Expected=9842.000\n",
            ">Predicted=13672.795, Expected=13076.000\n",
            ">Predicted=2357.242, Expected=3934.000\n",
            ">Predicted=2918.554, Expected=3162.000\n",
            ">Predicted=3297.886, Expected=4286.000\n",
            ">Predicted=3789.384, Expected=4676.000\n",
            ">Predicted=3039.903, Expected=5010.000\n",
            ">Predicted=4446.734, Expected=4874.000\n",
            ">Predicted=4495.677, Expected=4633.000\n",
            ">Predicted=1923.662, Expected=1659.000\n",
            ">Predicted=5289.555, Expected=5951.000\n",
            "RMSE: 966.176\n"
          ]
        }
      ]
    },
    {
      "cell_type": "markdown",
      "source": [
        "Running this example results in an RMSE of **966.176**, which is dramatically better than the persistence RMSE of **3186.501**."
      ],
      "metadata": {
        "id": "op8vdb6G4sPX"
      }
    },
    {
      "cell_type": "markdown",
      "source": [
        "# Grid Search ARIMA Hyperparameters\n",
        "In this section, we will search values of p, d, and q for combinations (skipping those that fail to converge), and find the combination that results in the best performance on the test set. We will use a grid search to explore all combinations in a subset of integer values.\n",
        "\n",
        "Specifically, we will search all combinations of the following parameters:\n",
        "\n",
        "*   p : 0 to 6\n",
        "*   d : 0 to 2\n",
        "*   q : 0 to 6\n",
        "\n",
        "\n",
        "\n"
      ],
      "metadata": {
        "id": "4yiOZv1h4FlG"
      }
    },
    {
      "cell_type": "code",
      "source": [
        "# grid search ARIMA parameters for time series\n",
        "import warnings\n",
        "from pandas import read_csv\n",
        "from statsmodels.tsa.arima_model import ARIMA\n",
        "from sklearn.metrics import mean_squared_error\n",
        "from math import sqrt\n",
        "import numpy\n",
        "\n",
        "# create a differenced series\n",
        "def difference(dataset, interval=1):\n",
        "\tdiff = list()\n",
        "\tfor i in range(interval, len(dataset)):\n",
        "\t\tvalue = dataset[i] - dataset[i - interval]\n",
        "\t\tdiff.append(value)\n",
        "\treturn numpy.array(diff)\n",
        "\n",
        "# invert differenced value\n",
        "def inverse_difference(history, yhat, interval=1):\n",
        "\treturn yhat + history[-interval]\n",
        "\n",
        "# evaluate an ARIMA model for a given order (p,d,q) and return RMSE\n",
        "def evaluate_arima_model(X, arima_order):\n",
        "\t# prepare training dataset\n",
        "\tX = X.astype('float32')\n",
        "\ttrain_size = int(len(X) * 0.50)\n",
        "\ttrain, test = X[0:train_size], X[train_size:]\n",
        "\thistory = [x for x in train]\n",
        "\t# make predictions\n",
        "\tpredictions = list()\n",
        "\tfor t in range(len(test)):\n",
        "\t\t# difference data\n",
        "\t\tmonths_in_year = 12\n",
        "\t\tdiff = difference(history, months_in_year)\n",
        "\t\tmodel = ARIMA(diff, order=arima_order)\n",
        "\t\tmodel_fit = model.fit()\n",
        "\t\tyhat = model_fit.forecast()[0]\n",
        "\t\tyhat = inverse_difference(history, yhat, months_in_year)\n",
        "\t\tpredictions.append(yhat)\n",
        "\t\thistory.append(test[t])\n",
        "\t# calculate out of sample error\n",
        "\trmse = sqrt(mean_squared_error(test, predictions))\n",
        "\treturn rmse\n",
        "\n",
        "# evaluate combinations of p, d and q values for an ARIMA model\n",
        "def evaluate_models(dataset, p_values, d_values, q_values):\n",
        "\tdataset = dataset.astype('float32')\n",
        "\tbest_score, best_cfg = float(\"inf\"), None\n",
        "\tfor p in p_values:\n",
        "\t\tfor d in d_values:\n",
        "\t\t\tfor q in q_values:\n",
        "\t\t\t\torder = (p,d,q)\n",
        "\t\t\t\ttry:\n",
        "\t\t\t\t\trmse = evaluate_arima_model(dataset, order)\n",
        "\t\t\t\t\tif rmse < best_score:\n",
        "\t\t\t\t\t\tbest_score, best_cfg = rmse, order\n",
        "\t\t\t\t\tprint('ARIMA%s RMSE=%.3f' % (order,rmse))\n",
        "\t\t\t\texcept:\n",
        "\t\t\t\t\tcontinue\n",
        "\tprint('Best ARIMA%s RMSE=%.3f' % (best_cfg, best_score))\n",
        "\n",
        "# load dataset\n",
        "series = read_csv('/content/drive/My Drive/French Champagne Time series forecast/dataset.csv', header=None, index_col=0, parse_dates=True, squeeze=True)\n",
        "# evaluate parameters\n",
        "p_values = range(0, 7)\n",
        "d_values = range(0, 3)\n",
        "q_values = range(0, 7)\n",
        "warnings.filterwarnings(\"ignore\")\n",
        "evaluate_models(series.values, p_values, d_values, q_values)"
      ],
      "metadata": {
        "colab": {
          "base_uri": "https://localhost:8080/"
        },
        "id": "QChs7WhR242d",
        "outputId": "90d0b988-2da3-4064-c9b3-376849e58a65"
      },
      "execution_count": null,
      "outputs": [
        {
          "output_type": "stream",
          "name": "stdout",
          "text": [
            "ARIMA(0, 0, 0) RMSE=947.677\n",
            "ARIMA(0, 0, 1) RMSE=948.736\n",
            "ARIMA(0, 0, 2) RMSE=973.850\n",
            "ARIMA(0, 0, 3) RMSE=987.539\n",
            "ARIMA(0, 0, 4) RMSE=1034.432\n",
            "ARIMA(0, 0, 5) RMSE=1044.996\n",
            "ARIMA(0, 1, 0) RMSE=1157.460\n",
            "ARIMA(0, 1, 1) RMSE=979.097\n",
            "ARIMA(0, 2, 0) RMSE=1951.373\n",
            "ARIMA(0, 2, 1) RMSE=1183.822\n",
            "ARIMA(1, 0, 0) RMSE=945.305\n",
            "ARIMA(1, 1, 0) RMSE=1080.588\n",
            "ARIMA(1, 1, 1) RMSE=966.176\n",
            "ARIMA(1, 2, 0) RMSE=1572.459\n",
            "ARIMA(2, 0, 0) RMSE=963.295\n",
            "ARIMA(2, 0, 1) RMSE=1013.215\n",
            "ARIMA(2, 1, 0) RMSE=1040.239\n",
            "ARIMA(2, 1, 1) RMSE=981.373\n",
            "ARIMA(2, 2, 0) RMSE=1360.312\n",
            "ARIMA(2, 2, 1) RMSE=1070.089\n",
            "ARIMA(3, 0, 0) RMSE=976.351\n",
            "ARIMA(3, 0, 1) RMSE=984.779\n",
            "ARIMA(3, 1, 0) RMSE=1038.489\n",
            "ARIMA(3, 2, 0) RMSE=1257.302\n",
            "ARIMA(4, 0, 0) RMSE=1004.121\n",
            "ARIMA(4, 1, 0) RMSE=1056.074\n",
            "ARIMA(4, 2, 0) RMSE=1240.092\n",
            "ARIMA(4, 2, 1) RMSE=1118.307\n",
            "ARIMA(5, 0, 0) RMSE=1019.967\n",
            "ARIMA(5, 1, 0) RMSE=1052.399\n",
            "ARIMA(6, 0, 0) RMSE=1030.144\n",
            "ARIMA(6, 0, 1) RMSE=1095.710\n",
            "ARIMA(6, 1, 0) RMSE=1028.031\n",
            "Best ARIMA(1, 0, 0) RMSE=945.305\n"
          ]
        }
      ]
    },
    {
      "cell_type": "markdown",
      "source": [
        "We will select this **ARIMA(1, 0, 0)** model going forward."
      ],
      "metadata": {
        "id": "YcDz3s727NH9"
      }
    },
    {
      "cell_type": "markdown",
      "source": [
        "# Review Residual Errors\n",
        "A good final check of a model is to review residual forecast errors.\n",
        "\n",
        "Ideally, the distribution of residual errors should be a Gaussian with a zero mean.\n",
        "\n",
        "We can check this by using summary statistics and plots to investigate the residual errors from the ARIMA(0, 0, 1) model. The example below calculates and summarizes the residual forecast errors."
      ],
      "metadata": {
        "id": "-vTZ-lTS9UC7"
      }
    },
    {
      "cell_type": "code",
      "source": [
        "# summarize ARIMA forecast residuals\n",
        "from pandas import read_csv\n",
        "from pandas import DataFrame\n",
        "from statsmodels.tsa.arima_model import ARIMA\n",
        "from matplotlib import pyplot\n",
        "\n",
        "# create a differenced series\n",
        "def difference(dataset, interval=1):\n",
        "\tdiff = list()\n",
        "\tfor i in range(interval, len(dataset)):\n",
        "\t\tvalue = dataset[i] - dataset[i - interval]\n",
        "\t\tdiff.append(value)\n",
        "\treturn diff\n",
        "\n",
        "# invert differenced value\n",
        "def inverse_difference(history, yhat, interval=1):\n",
        "\treturn yhat + history[-interval]\n",
        "\n",
        "# load data\n",
        "series = read_csv('/content/drive/My Drive/French Champagne Time series forecast/dataset.csv', header=None, index_col=0, parse_dates=True, squeeze=True)\n",
        "# prepare data\n",
        "X = series.values\n",
        "X = X.astype('float32')\n",
        "train_size = int(len(X) * 0.50)\n",
        "train, test = X[0:train_size], X[train_size:]\n",
        "# walk-forward validation\n",
        "history = [x for x in train]\n",
        "predictions = list()\n",
        "for i in range(len(test)):\n",
        "\t# difference data\n",
        "\tmonths_in_year = 12\n",
        "\tdiff = difference(history, months_in_year)\n",
        "\t# predict\n",
        "\tmodel = ARIMA(diff, order=(1,0,0))\n",
        "\tmodel_fit = model.fit()\n",
        "\tyhat = model_fit.forecast()[0]\n",
        "\tyhat = inverse_difference(history, yhat, months_in_year)\n",
        "\tpredictions.append(yhat)\n",
        "\t# observation\n",
        "\tobs = test[i]\n",
        "\thistory.append(obs)\n",
        "# errors\n",
        "residuals = [test[i]-predictions[i] for i in range(len(test))]\n",
        "residuals = DataFrame(residuals)\n",
        "print(residuals.describe())\n",
        "# plot\n",
        "pyplot.figure()\n",
        "pyplot.subplot(211)\n",
        "residuals.hist(ax=pyplot.gca())\n",
        "pyplot.subplot(212)\n",
        "residuals.plot(kind='kde', ax=pyplot.gca())\n",
        "pyplot.show()"
      ],
      "metadata": {
        "colab": {
          "base_uri": "https://localhost:8080/",
          "height": 437
        },
        "id": "MztzKUKc5hSb",
        "outputId": "302a4c11-b39b-4aad-b793-7fdaaa180d34"
      },
      "execution_count": null,
      "outputs": [
        {
          "output_type": "stream",
          "name": "stdout",
          "text": [
            "                 0\n",
            "count    47.000000\n",
            "mean   -196.825871\n",
            "std     934.582501\n",
            "min   -2319.579513\n",
            "25%    -680.802901\n",
            "50%    -238.533918\n",
            "75%     352.371029\n",
            "max    2190.639261\n"
          ]
        },
        {
          "output_type": "display_data",
          "data": {
            "image/png": "[encoded data removed]",
            "text/plain": [
              "<Figure size 432x288 with 2 Axes>"
            ]
          },
          "metadata": {
            "needs_background": "light"
          }
        }
      ]
    },
    {
      "cell_type": "markdown",
      "source": [
        "We can see that the distribution has a right shift and that the mean is non-zero at -196.825871.\n",
        "\n",
        "We could use this information to bias-correct predictions by adding the mean residual error of -196.825871 to each forecast made"
      ],
      "metadata": {
        "id": "s4nmQKYj9iE3"
      }
    },
    {
      "cell_type": "code",
      "source": [
        "# plots of residual errors of bias corrected forecasts\n",
        "from pandas import read_csv\n",
        "from pandas import DataFrame\n",
        "from statsmodels.tsa.arima_model import ARIMA\n",
        "from matplotlib import pyplot\n",
        "from sklearn.metrics import mean_squared_error\n",
        "from math import sqrt\n",
        "\n",
        "# create a differenced series\n",
        "def difference(dataset, interval=1):\n",
        "\tdiff = list()\n",
        "\tfor i in range(interval, len(dataset)):\n",
        "\t\tvalue = dataset[i] - dataset[i - interval]\n",
        "\t\tdiff.append(value)\n",
        "\treturn diff\n",
        "\n",
        "# invert differenced value\n",
        "def inverse_difference(history, yhat, interval=1):\n",
        "\treturn yhat + history[-interval]\n",
        "\n",
        "# load data\n",
        "series = read_csv('/content/drive/My Drive/French Champagne Time series forecast/dataset.csv', header=None, index_col=0, parse_dates=True, squeeze=True)\n",
        "# prepare data\n",
        "X = series.values\n",
        "X = X.astype('float32')\n",
        "train_size = int(len(X) * 0.50)\n",
        "train, test = X[0:train_size], X[train_size:]\n",
        "# walk-forward validation\n",
        "history = [x for x in train]\n",
        "predictions = list()\n",
        "bias = -196.825871\n",
        "for i in range(len(test)):\n",
        "\t# difference data\n",
        "\tmonths_in_year = 12\n",
        "\tdiff = difference(history, months_in_year)\n",
        "\t# predict\n",
        "\tmodel = ARIMA(diff, order=(1,0,0))\n",
        "\tmodel_fit = model.fit()\n",
        "\tyhat = model_fit.forecast()[0]\n",
        "\tyhat = bias + inverse_difference(history, yhat, months_in_year)\n",
        "\tpredictions.append(yhat)\n",
        "\t# observation\n",
        "\tobs = test[i]\n",
        "\thistory.append(obs)\n",
        "# report performance\n",
        "rmse = sqrt(mean_squared_error(test, predictions))\n",
        "print('RMSE: %.3f' % rmse)\n",
        "# errors\n",
        "residuals = [test[i]-predictions[i] for i in range(len(test))]\n",
        "residuals = DataFrame(residuals)\n",
        "print(residuals.describe())\n",
        "# plot\n",
        "pyplot.figure()\n",
        "pyplot.subplot(211)\n",
        "residuals.hist(ax=pyplot.gca())\n",
        "pyplot.subplot(212)\n",
        "residuals.plot(kind='kde', ax=pyplot.gca())\n",
        "pyplot.show()"
      ],
      "metadata": {
        "colab": {
          "base_uri": "https://localhost:8080/",
          "height": 455
        },
        "id": "WK1fIEKy9yTg",
        "outputId": "1706c155-ab91-43cc-db50-0b5884e2b349"
      },
      "execution_count": null,
      "outputs": [
        {
          "output_type": "stream",
          "name": "stdout",
          "text": [
            "RMSE: 924.587\n",
            "                  0\n",
            "count  4.700000e+01\n",
            "mean   1.137911e-07\n",
            "std    9.345825e+02\n",
            "min   -2.122754e+03\n",
            "25%   -4.839770e+02\n",
            "50%   -4.170805e+01\n",
            "75%    5.491969e+02\n",
            "max    2.387465e+03\n"
          ]
        },
        {
          "output_type": "display_data",
          "data": {
            "image/png": "[encoded data removed]",
            "text/plain": [
              "<Figure size 432x288 with 2 Axes>"
            ]
          },
          "metadata": {
            "needs_background": "light"
          }
        }
      ]
    },
    {
      "cell_type": "markdown",
      "source": [
        "The performance of the predictions is improved very slightly from 945.305 to 924.587, which may or may not be significant.\n",
        "\n",
        "The summary of the forecast residual errors shows that the mean was indeed moved to a value very close to zero."
      ],
      "metadata": {
        "id": "E5xIU2KZ-h7U"
      }
    },
    {
      "cell_type": "markdown",
      "source": [
        "# Finalize Model\n",
        "Finalizing the model involves fitting an ARIMA model on the entire dataset, in this case on a transformed version of the entire dataset.\n",
        "\n",
        "Once fit, the model can be saved to file for later use.\n",
        "\n",
        "The example below trains an ARIMA(1,0,0) model on the dataset and saves the whole fit object and the bias to file.\n",
        "\n",
        "The example below saves the fit model to file in the correct state so that it can be loaded successfully later"
      ],
      "metadata": {
        "id": "gwekACW5AAKs"
      }
    },
    {
      "cell_type": "code",
      "source": [
        "# save finalized model\n",
        "from pandas import read_csv\n",
        "from statsmodels.tsa.arima_model import ARIMA\n",
        "import numpy\n",
        "\n",
        "# create a differenced series\n",
        "def difference(dataset, interval=1):\n",
        "\tdiff = list()\n",
        "\tfor i in range(interval, len(dataset)):\n",
        "\t\tvalue = dataset[i] - dataset[i - interval]\n",
        "\t\tdiff.append(value)\n",
        "\treturn diff\n",
        "\n",
        "# load data\n",
        "series = read_csv('/content/drive/My Drive/French Champagne Time series forecast/dataset.csv', header=None, index_col=0, parse_dates=True, squeeze=True)\n",
        "# prepare data\n",
        "X = series.values\n",
        "X = X.astype('float32')\n",
        "# difference data\n",
        "months_in_year = 12\n",
        "diff = difference(X, months_in_year)\n",
        "# fit model\n",
        "model = ARIMA(diff, order=(1,0,0))\n",
        "model_fit = model.fit()\n",
        "# bias constant, could be calculated from in-sample mean residual\n",
        "bias = -196.825871\n",
        "# save model\n",
        "model_fit.save('model.pkl')\n",
        "numpy.save('model_bias.npy', [bias])"
      ],
      "metadata": {
        "id": "nk0PW7YC-tQJ"
      },
      "execution_count": null,
      "outputs": []
    },
    {
      "cell_type": "markdown",
      "source": [
        "Running the example creates two local files:\n",
        "\n",
        "*   *model.pkl* : This is the ARIMAResult object from the call to ARIMA.fit(). This includes the coefficients and all other internal data returned when fitting the model.\n",
        "*  *model_bias.npy* : This is the bias value stored as a one-row, one-column NumPy array.\n",
        "\n",
        "\n"
      ],
      "metadata": {
        "id": "TkDisnSjAL4V"
      }
    },
    {
      "cell_type": "markdown",
      "source": [
        "# Make Prediction\n",
        "The example below loads the model, makes a prediction for the next time step, and prints the prediction."
      ],
      "metadata": {
        "id": "-GbZOMKKAxEC"
      }
    },
    {
      "cell_type": "code",
      "source": [
        "# load finalized model and make a prediction\n",
        "from pandas import read_csv\n",
        "from statsmodels.tsa.arima_model import ARIMAResults\n",
        "import numpy\n",
        "\n",
        "# invert differenced value\n",
        "def inverse_difference(history, yhat, interval=1):\n",
        "\treturn yhat + history[-interval]\n",
        "\n",
        "series = read_csv('/content/drive/My Drive/French Champagne Time series forecast/dataset.csv', header=None, index_col=0, parse_dates=True, squeeze=True)\n",
        "months_in_year = 12\n",
        "model_fit = ARIMAResults.load('model.pkl')\n",
        "bias = numpy.load('model_bias.npy')\n",
        "yhat = float(model_fit.forecast()[0])\n",
        "yhat = bias + inverse_difference(series.values, yhat, months_in_year)\n",
        "print('Predicted: %.3f' % yhat)"
      ],
      "metadata": {
        "colab": {
          "base_uri": "https://localhost:8080/"
        },
        "id": "2XoiHd5yAYQB",
        "outputId": "2fb42967-5276-4489-f9cd-03bb0833cbe6"
      },
      "execution_count": null,
      "outputs": [
        {
          "output_type": "stream",
          "name": "stdout",
          "text": [
            "Predicted: 6631.852\n"
          ]
        }
      ]
    },
    {
      "cell_type": "markdown",
      "source": [
        "# Validate Model\n",
        "\n",
        "In the test harness section, we saved the final 12 months of the original dataset in a separate file to validate the final model.\n",
        "\n",
        "We can load this validation.csv file now and use it see how well our model really is on “unseen” data."
      ],
      "metadata": {
        "id": "kTfY-GUuB4bj"
      }
    },
    {
      "cell_type": "code",
      "source": [
        "# load and evaluate the finalized model on the validation dataset\n",
        "from pandas import read_csv\n",
        "from matplotlib import pyplot\n",
        "from statsmodels.tsa.arima_model import ARIMA\n",
        "from statsmodels.tsa.arima_model import ARIMAResults\n",
        "from sklearn.metrics import mean_squared_error\n",
        "from math import sqrt\n",
        "import numpy\n",
        "\n",
        "# create a differenced series\n",
        "def difference(dataset, interval=1):\n",
        "\tdiff = list()\n",
        "\tfor i in range(interval, len(dataset)):\n",
        "\t\tvalue = dataset[i] - dataset[i - interval]\n",
        "\t\tdiff.append(value)\n",
        "\treturn diff\n",
        "\n",
        "# invert differenced value\n",
        "def inverse_difference(history, yhat, interval=1):\n",
        "\treturn yhat + history[-interval]\n",
        "\n",
        "# load and prepare datasets\n",
        "dataset = read_csv('/content/drive/My Drive/French Champagne Time series forecast/dataset.csv', header=None, index_col=0, parse_dates=True, squeeze=True)\n",
        "X = dataset.values.astype('float32')\n",
        "history = [x for x in X]\n",
        "months_in_year = 12\n",
        "validation = read_csv('/content/drive/My Drive/French Champagne Time series forecast/validation.csv', header=None, index_col=0, parse_dates=True, squeeze=True)\n",
        "y = validation.values.astype('float32')\n",
        "# load model\n",
        "model_fit = ARIMAResults.load('model.pkl')\n",
        "bias = numpy.load('model_bias.npy')\n",
        "# make first prediction\n",
        "predictions = list()\n",
        "yhat = float(model_fit.forecast()[0])\n",
        "yhat = bias + inverse_difference(history, yhat, months_in_year)\n",
        "predictions.append(yhat)\n",
        "history.append(y[0])\n",
        "print('>Predicted=%.3f, Expected=%.3f' % (yhat, y[0]))\n",
        "# rolling forecasts\n",
        "for i in range(1, len(y)):\n",
        "\t# difference data\n",
        "\tmonths_in_year = 12\n",
        "\tdiff = difference(history, months_in_year)\n",
        "\t# predict\n",
        "\tmodel = ARIMA(diff, order=(1,0,0))\n",
        "\tmodel_fit = model.fit()\n",
        "\tyhat = model_fit.forecast()[0]\n",
        "\tyhat = bias + inverse_difference(history, yhat, months_in_year)\n",
        "\tpredictions.append(yhat)\n",
        "\t# observation\n",
        "\tobs = y[i]\n",
        "\thistory.append(obs)\n",
        "\tprint('>Predicted=%.3f, Expected=%.3f' % (yhat, obs))\n",
        "# report performance\n",
        "rmse = sqrt(mean_squared_error(y, predictions))\n",
        "print('RMSE: %.3f' % rmse)\n",
        "pyplot.plot(y)\n",
        "pyplot.plot(predictions, color='red')\n",
        "pyplot.show()"
      ],
      "metadata": {
        "colab": {
          "base_uri": "https://localhost:8080/",
          "height": 491
        },
        "id": "k6Z0SWhGBXyr",
        "outputId": "7dbdd992-ab1b-46ec-fb22-1f82cd400fa2"
      },
      "execution_count": null,
      "outputs": [
        {
          "output_type": "stream",
          "name": "stdout",
          "text": [
            ">Predicted=6631.852, Expected=6981.000\n",
            ">Predicted=10015.500, Expected=9851.000\n",
            ">Predicted=13129.562, Expected=12670.000\n",
            ">Predicted=3889.477, Expected=4348.000\n",
            ">Predicted=3296.031, Expected=3564.000\n",
            ">Predicted=4418.304, Expected=4577.000\n",
            ">Predicted=4784.514, Expected=4788.000\n",
            ">Predicted=5078.498, Expected=4618.000\n",
            ">Predicted=4826.955, Expected=5312.000\n",
            ">Predicted=4765.962, Expected=4298.000\n",
            ">Predicted=1623.482, Expected=1413.000\n",
            ">Predicted=5926.939, Expected=5877.000\n",
            "RMSE: 339.181\n"
          ]
        },
        {
          "output_type": "display_data",
          "data": {
            "image/png": "[encoded data removed]",
            "text/plain": [
              "<Figure size 432x288 with 1 Axes>"
            ]
          },
          "metadata": {
            "needs_background": "light"
          }
        }
      ]
    },
    {
      "cell_type": "markdown",
      "source": [
        "The final RMSE for the validation period is predicted at 339.181 million sales."
      ],
      "metadata": {
        "id": "g65L2mphCE-c"
      }
    },
    {
      "cell_type": "code",
      "source": [
        ""
      ],
      "metadata": {
        "id": "9nRLHf9mCQa3"
      },
      "execution_count": null,
      "outputs": []
    }
  ]
}